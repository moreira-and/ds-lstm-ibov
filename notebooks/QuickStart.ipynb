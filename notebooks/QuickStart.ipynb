{
 "cells": [
  {
   "cell_type": "markdown",
   "id": "9f58e5c2",
   "metadata": {},
   "source": [
    "## Import libraries"
   ]
  },
  {
   "cell_type": "code",
   "execution_count": 2,
   "id": "e16446b8",
   "metadata": {},
   "outputs": [
    {
     "name": "stderr",
     "output_type": "stream",
     "text": [
      "\u001b[32m2025-07-15 21:33:59.095\u001b[0m | \u001b[1mINFO    \u001b[0m | \u001b[36msrc.config\u001b[0m:\u001b[36m<module>\u001b[0m:\u001b[36m13\u001b[0m - \u001b[1mPROJ_ROOT path is: C:\\Repositories\\time-series-prediction-rnn\u001b[0m\n"
     ]
    }
   ],
   "source": [
    "import sys\n",
    "import os\n",
    "\n",
    "# Adiciona a pasta raiz do projeto ao sys.path\n",
    "project_root = os.path.abspath(os.path.join(os.getcwd(), '..'))\n",
    "if project_root not in sys.path:\n",
    "    sys.path.insert(0, project_root)\n",
    "\n",
    "import src.config as config\n"
   ]
  },
  {
   "cell_type": "markdown",
   "id": "9bfd6425",
   "metadata": {},
   "source": [
    "## ETL — Extract, Transform, Load of Raw Dataset\n",
    "\n",
    "This section is responsible for the Extraction phase of the ETL process, pulling historical financial data from multiple sources as defined in the configuration file [dataset.yaml](../configs/dataset.yaml).\n",
    "\n",
    "- Data Storage: Each dataset is stored locally in the data/raw/ directory, organized and saved individually as .csv files for traceability and versioning.\n",
    "- Data Cleaning:\n",
    "  - Missing values are treated using a standard cleaning strategy.\n",
    "  - Features with low variance (threshold < 0.01) are removed to reduce noise and improve modeling efficiency. In this execution, no low-variance columns were found."
   ]
  },
  {
   "cell_type": "code",
   "execution_count": 2,
   "id": "7fdcd420",
   "metadata": {},
   "outputs": [
    {
     "name": "stdout",
     "output_type": "stream",
     "text": [
      "\u001b[32m2025-07-15 19:10:37.025\u001b[0m | \u001b[1mINFO    \u001b[0m | \u001b[36msrc.dataset\u001b[0m:\u001b[36mmain\u001b[0m:\u001b[36m33\u001b[0m - \u001b[1mStarting raw data loading...\u001b[0m\n",
      "\u001b[32m2025-07-15 19:10:37.025\u001b[0m | \u001b[1mINFO    \u001b[0m | \u001b[36msrc.dataset\u001b[0m:\u001b[36mmain\u001b[0m:\u001b[36m39\u001b[0m - \u001b[1mRequesting information between 2016-07-17 and 2025-07-15\u001b[0m\n",
      "\u001b[32m2025-07-15 19:10:37.043\u001b[0m | \u001b[1mINFO    \u001b[0m | \u001b[36msrc.utils.dataset.dataset_loading_strategy\u001b[0m:\u001b[36m_load_from_yfinance\u001b[0m:\u001b[36m56\u001b[0m - \u001b[1mDownloading IndBovespa (^BVSP) from yfinance...\u001b[0m\n"
     ]
    },
    {
     "name": "stderr",
     "output_type": "stream",
     "text": [
      "[*********************100%***********************]  1 of 1 completed\n"
     ]
    },
    {
     "name": "stdout",
     "output_type": "stream",
     "text": [
      "\u001b[32m2025-07-15 19:10:44.707\u001b[0m | \u001b[1mINFO    \u001b[0m | \u001b[36msrc.utils.dataset.dataset_loading_strategy\u001b[0m:\u001b[36m_load_from_yfinance\u001b[0m:\u001b[36m56\u001b[0m - \u001b[1mDownloading IndNasdaq (^IXIC) from yfinance...\u001b[0m\n"
     ]
    },
    {
     "name": "stderr",
     "output_type": "stream",
     "text": [
      "[*********************100%***********************]  1 of 1 completed\n"
     ]
    },
    {
     "name": "stdout",
     "output_type": "stream",
     "text": [
      "\u001b[32m2025-07-15 19:10:47.557\u001b[0m | \u001b[1mINFO    \u001b[0m | \u001b[36msrc.utils.dataset.dataset_loading_strategy\u001b[0m:\u001b[36m_load_from_yfinance\u001b[0m:\u001b[36m56\u001b[0m - \u001b[1mDownloading IndSp500 (^GSPC) from yfinance...\u001b[0m\n"
     ]
    },
    {
     "name": "stderr",
     "output_type": "stream",
     "text": [
      "[*********************100%***********************]  1 of 1 completed\n"
     ]
    },
    {
     "name": "stdout",
     "output_type": "stream",
     "text": [
      "\u001b[32m2025-07-15 19:10:50.485\u001b[0m | \u001b[1mINFO    \u001b[0m | \u001b[36msrc.utils.dataset.dataset_loading_strategy\u001b[0m:\u001b[36m_load_from_yfinance\u001b[0m:\u001b[36m56\u001b[0m - \u001b[1mDownloading IndDji (^DJI) from yfinance...\u001b[0m\n"
     ]
    },
    {
     "name": "stderr",
     "output_type": "stream",
     "text": [
      "[*********************100%***********************]  1 of 1 completed\n"
     ]
    },
    {
     "name": "stdout",
     "output_type": "stream",
     "text": [
      "\u001b[32m2025-07-15 19:10:53.543\u001b[0m | \u001b[1mINFO    \u001b[0m | \u001b[36msrc.utils.dataset.dataset_loading_strategy\u001b[0m:\u001b[36m_load_from_yfinance\u001b[0m:\u001b[36m56\u001b[0m - \u001b[1mDownloading BtcUsd (BTC-USD) from yfinance...\u001b[0m\n"
     ]
    },
    {
     "name": "stderr",
     "output_type": "stream",
     "text": [
      "[*********************100%***********************]  1 of 1 completed\n"
     ]
    },
    {
     "name": "stdout",
     "output_type": "stream",
     "text": [
      "\u001b[32m2025-07-15 19:10:56.750\u001b[0m | \u001b[1mINFO    \u001b[0m | \u001b[36msrc.utils.dataset.dataset_loading_strategy\u001b[0m:\u001b[36m_load_from_yfinance\u001b[0m:\u001b[36m56\u001b[0m - \u001b[1mDownloading EurUsd (EURUSD=X) from yfinance...\u001b[0m\n"
     ]
    },
    {
     "name": "stderr",
     "output_type": "stream",
     "text": [
      "[*********************100%***********************]  1 of 1 completed\n"
     ]
    },
    {
     "name": "stdout",
     "output_type": "stream",
     "text": [
      "\u001b[32m2025-07-15 19:10:59.602\u001b[0m | \u001b[1mINFO    \u001b[0m | \u001b[36msrc.utils.dataset.dataset_loading_strategy\u001b[0m:\u001b[36m_load_from_yfinance\u001b[0m:\u001b[36m56\u001b[0m - \u001b[1mDownloading FutOuro (GC=F) from yfinance...\u001b[0m\n"
     ]
    },
    {
     "name": "stderr",
     "output_type": "stream",
     "text": [
      "[*********************100%***********************]  1 of 1 completed\n"
     ]
    },
    {
     "name": "stdout",
     "output_type": "stream",
     "text": [
      "\u001b[32m2025-07-15 19:11:02.536\u001b[0m | \u001b[1mINFO    \u001b[0m | \u001b[36msrc.utils.dataset.dataset_loading_strategy\u001b[0m:\u001b[36m_load_from_yfinance\u001b[0m:\u001b[36m56\u001b[0m - \u001b[1mDownloading FutPrata (SI=F) from yfinance...\u001b[0m\n"
     ]
    },
    {
     "name": "stderr",
     "output_type": "stream",
     "text": [
      "[*********************100%***********************]  1 of 1 completed\n"
     ]
    },
    {
     "name": "stdout",
     "output_type": "stream",
     "text": [
      "\u001b[32m2025-07-15 19:11:05.336\u001b[0m | \u001b[1mINFO    \u001b[0m | \u001b[36msrc.utils.dataset.dataset_loading_strategy\u001b[0m:\u001b[36m_load_from_yfinance\u001b[0m:\u001b[36m56\u001b[0m - \u001b[1mDownloading futCobre (HG=F) from yfinance...\u001b[0m\n"
     ]
    },
    {
     "name": "stderr",
     "output_type": "stream",
     "text": [
      "[*********************100%***********************]  1 of 1 completed\n"
     ]
    },
    {
     "name": "stdout",
     "output_type": "stream",
     "text": [
      "\u001b[32m2025-07-15 19:11:07.946\u001b[0m | \u001b[1mINFO    \u001b[0m | \u001b[36msrc.utils.dataset.dataset_loading_strategy\u001b[0m:\u001b[36m_load_from_yfinance\u001b[0m:\u001b[36m56\u001b[0m - \u001b[1mDownloading FutPetroleo (CL=F) from yfinance...\u001b[0m\n"
     ]
    },
    {
     "name": "stderr",
     "output_type": "stream",
     "text": [
      "[*********************100%***********************]  1 of 1 completed\n"
     ]
    },
    {
     "name": "stdout",
     "output_type": "stream",
     "text": [
      "\u001b[32m2025-07-15 19:11:10.730\u001b[0m | \u001b[1mINFO    \u001b[0m | \u001b[36msrc.utils.dataset.dataset_loading_strategy\u001b[0m:\u001b[36m_load_from_yfinance\u001b[0m:\u001b[36m56\u001b[0m - \u001b[1mDownloading FutOleo (HO=F) from yfinance...\u001b[0m\n"
     ]
    },
    {
     "name": "stderr",
     "output_type": "stream",
     "text": [
      "[*********************100%***********************]  1 of 1 completed\n"
     ]
    },
    {
     "name": "stdout",
     "output_type": "stream",
     "text": [
      "\u001b[32m2025-07-15 19:11:13.581\u001b[0m | \u001b[1mINFO    \u001b[0m | \u001b[36msrc.utils.dataset.dataset_loading_strategy\u001b[0m:\u001b[36m_load_from_yfinance\u001b[0m:\u001b[36m56\u001b[0m - \u001b[1mDownloading FutGasNatural (NG=F) from yfinance...\u001b[0m\n"
     ]
    },
    {
     "name": "stderr",
     "output_type": "stream",
     "text": [
      "[*********************100%***********************]  1 of 1 completed\n"
     ]
    },
    {
     "name": "stdout",
     "output_type": "stream",
     "text": [
      "\u001b[32m2025-07-15 19:11:16.251\u001b[0m | \u001b[1mINFO    \u001b[0m | \u001b[36msrc.utils.dataset.dataset_loading_strategy\u001b[0m:\u001b[36m_load_from_yfinance\u001b[0m:\u001b[36m56\u001b[0m - \u001b[1mDownloading FutGasolina (RB=F) from yfinance...\u001b[0m\n"
     ]
    },
    {
     "name": "stderr",
     "output_type": "stream",
     "text": [
      "[*********************100%***********************]  1 of 1 completed\n"
     ]
    },
    {
     "name": "stdout",
     "output_type": "stream",
     "text": [
      "\u001b[32m2025-07-15 19:11:19.058\u001b[0m | \u001b[1mINFO    \u001b[0m | \u001b[36msrc.utils.dataset.dataset_loading_strategy\u001b[0m:\u001b[36m_load_from_yfinance\u001b[0m:\u001b[36m56\u001b[0m - \u001b[1mDownloading FutAcucar (SB=F) from yfinance...\u001b[0m\n"
     ]
    },
    {
     "name": "stderr",
     "output_type": "stream",
     "text": [
      "[*********************100%***********************]  1 of 1 completed\n"
     ]
    },
    {
     "name": "stdout",
     "output_type": "stream",
     "text": [
      "\u001b[32m2025-07-15 19:11:22.226\u001b[0m | \u001b[1mINFO    \u001b[0m | \u001b[36msrc.utils.dataset.dataset_loading_strategy\u001b[0m:\u001b[36m_load_from_yfinance\u001b[0m:\u001b[36m56\u001b[0m - \u001b[1mDownloading FutMilho (ZC=F) from yfinance...\u001b[0m\n"
     ]
    },
    {
     "name": "stderr",
     "output_type": "stream",
     "text": [
      "[*********************100%***********************]  1 of 1 completed\n"
     ]
    },
    {
     "name": "stdout",
     "output_type": "stream",
     "text": [
      "\u001b[32m2025-07-15 19:11:24.661\u001b[0m | \u001b[1mINFO    \u001b[0m | \u001b[36msrc.utils.dataset.dataset_loading_strategy\u001b[0m:\u001b[36m_load_from_yfinance\u001b[0m:\u001b[36m56\u001b[0m - \u001b[1mDownloading FutArroz (ZR=F) from yfinance...\u001b[0m\n"
     ]
    },
    {
     "name": "stderr",
     "output_type": "stream",
     "text": [
      "[*********************100%***********************]  1 of 1 completed\n"
     ]
    },
    {
     "name": "stdout",
     "output_type": "stream",
     "text": [
      "\u001b[32m2025-07-15 19:11:27.292\u001b[0m | \u001b[1mINFO    \u001b[0m | \u001b[36msrc.utils.dataset.dataset_loading_strategy\u001b[0m:\u001b[36m_load_from_yfinance\u001b[0m:\u001b[36m56\u001b[0m - \u001b[1mDownloading FutSoja (ZS=F) from yfinance...\u001b[0m\n"
     ]
    },
    {
     "name": "stderr",
     "output_type": "stream",
     "text": [
      "[*********************100%***********************]  1 of 1 completed\n"
     ]
    },
    {
     "name": "stdout",
     "output_type": "stream",
     "text": [
      "\u001b[32m2025-07-15 19:11:29.958\u001b[0m | \u001b[1mINFO    \u001b[0m | \u001b[36msrc.utils.dataset.dataset_loading_strategy\u001b[0m:\u001b[36m_load_from_yfinance\u001b[0m:\u001b[36m56\u001b[0m - \u001b[1mDownloading FutCafe (KC=F) from yfinance...\u001b[0m\n"
     ]
    },
    {
     "name": "stderr",
     "output_type": "stream",
     "text": [
      "[*********************100%***********************]  1 of 1 completed\n"
     ]
    },
    {
     "name": "stdout",
     "output_type": "stream",
     "text": [
      "\u001b[32m2025-07-15 19:11:33.076\u001b[0m | \u001b[1mINFO    \u001b[0m | \u001b[36msrc.utils.dataset.dataset_loading_strategy\u001b[0m:\u001b[36m_load_from_yfinance\u001b[0m:\u001b[36m56\u001b[0m - \u001b[1mDownloading FutGado (LE=F) from yfinance...\u001b[0m\n"
     ]
    },
    {
     "name": "stderr",
     "output_type": "stream",
     "text": [
      "[*********************100%***********************]  1 of 1 completed\n"
     ]
    },
    {
     "name": "stdout",
     "output_type": "stream",
     "text": [
      "\u001b[32m2025-07-15 19:11:35.862\u001b[0m | \u001b[1mINFO    \u001b[0m | \u001b[36msrc.utils.dataset.dataset_loading_strategy\u001b[0m:\u001b[36m_load_from_yfinance\u001b[0m:\u001b[36m56\u001b[0m - \u001b[1mDownloading FutPorco (HE=F) from yfinance...\u001b[0m\n"
     ]
    },
    {
     "name": "stderr",
     "output_type": "stream",
     "text": [
      "[*********************100%***********************]  1 of 1 completed\n"
     ]
    },
    {
     "name": "stdout",
     "output_type": "stream",
     "text": [
      "\u001b[32m2025-07-15 19:11:39.103\u001b[0m | \u001b[1mINFO    \u001b[0m | \u001b[36msrc.utils.dataset.dataset_loading_strategy\u001b[0m:\u001b[36m_load_from_yfinance\u001b[0m:\u001b[36m56\u001b[0m - \u001b[1mDownloading FutAlgodao (CT=F) from yfinance...\u001b[0m\n"
     ]
    },
    {
     "name": "stderr",
     "output_type": "stream",
     "text": [
      "[*********************100%***********************]  1 of 1 completed\n"
     ]
    },
    {
     "name": "stdout",
     "output_type": "stream",
     "text": [
      "\u001b[32m2025-07-15 19:11:41.819\u001b[0m | \u001b[1mINFO    \u001b[0m | \u001b[36msrc.utils.dataset.dataset_loading_strategy\u001b[0m:\u001b[36m_load_from_yfinance\u001b[0m:\u001b[36m56\u001b[0m - \u001b[1mDownloading JurosFuturo (ZB=F) from yfinance...\u001b[0m\n"
     ]
    },
    {
     "name": "stderr",
     "output_type": "stream",
     "text": [
      "[*********************100%***********************]  1 of 1 completed\n"
     ]
    },
    {
     "name": "stdout",
     "output_type": "stream",
     "text": [
      "\u001b[32m2025-07-15 19:11:44.485\u001b[0m | \u001b[1mINFO    \u001b[0m | \u001b[36msrc.utils.dataset.dataset_loading_strategy\u001b[0m:\u001b[36mload\u001b[0m:\u001b[36m81\u001b[0m - \u001b[1mDownloading SELIC (11) from the Central Bank of Brazil API...\u001b[0m\n",
      "\u001b[32m2025-07-15 19:12:02.932\u001b[0m | \u001b[1mINFO    \u001b[0m | \u001b[36msrc.utils.dataset.dataset_loading_strategy\u001b[0m:\u001b[36mload\u001b[0m:\u001b[36m81\u001b[0m - \u001b[1mDownloading CDI (12) from the Central Bank of Brazil API...\u001b[0m\n",
      "\u001b[32m2025-07-15 19:12:05.627\u001b[0m | \u001b[1mINFO    \u001b[0m | \u001b[36msrc.utils.dataset.dataset_loading_strategy\u001b[0m:\u001b[36mload\u001b[0m:\u001b[36m81\u001b[0m - \u001b[1mDownloading SELIC_Anual (1178) from the Central Bank of Brazil API...\u001b[0m\n",
      "\u001b[32m2025-07-15 19:12:23.759\u001b[0m | \u001b[1mINFO    \u001b[0m | \u001b[36msrc.utils.dataset.dataset_loading_strategy\u001b[0m:\u001b[36mload\u001b[0m:\u001b[36m81\u001b[0m - \u001b[1mDownloading SELIC_Meta_Anual (432) from the Central Bank of Brazil API...\u001b[0m\n",
      "\u001b[32m2025-07-15 19:12:53.928\u001b[0m | \u001b[33m\u001b[1mWARNING \u001b[0m | \u001b[36msrc.utils.dataset.dataset_loading_strategy\u001b[0m:\u001b[36m_request_bcb_series\u001b[0m:\u001b[36m118\u001b[0m - \u001b[33m\u001b[1mErro ao conectar à API do BCB: Expecting value: line 1 column 1 (char 0)\u001b[0m\n",
      "\u001b[32m2025-07-15 19:12:53.931\u001b[0m | \u001b[33m\u001b[1mWARNING \u001b[0m | \u001b[36msrc.utils.dataset.dataset_loading_strategy\u001b[0m:\u001b[36m_load_single_ticker\u001b[0m:\u001b[36m94\u001b[0m - \u001b[33m\u001b[1mNo data returned for SELIC_Meta_Anual (432)\u001b[0m\n",
      "\u001b[32m2025-07-15 19:12:55.932\u001b[0m | \u001b[1mINFO    \u001b[0m | \u001b[36msrc.utils.dataset.dataset_loading_strategy\u001b[0m:\u001b[36mload\u001b[0m:\u001b[36m81\u001b[0m - \u001b[1mDownloading IPCA_Mensal (433) from the Central Bank of Brazil API...\u001b[0m\n",
      "\u001b[32m2025-07-15 19:12:58.449\u001b[0m | \u001b[1mINFO    \u001b[0m | \u001b[36msrc.utils.dataset.dataset_loading_strategy\u001b[0m:\u001b[36mload\u001b[0m:\u001b[36m81\u001b[0m - \u001b[1mDownloading IGP_M_Mensal (189) from the Central Bank of Brazil API...\u001b[0m\n",
      "\u001b[32m2025-07-15 19:13:01.063\u001b[0m | \u001b[1mINFO    \u001b[0m | \u001b[36msrc.utils.dataset.dataset_loading_strategy\u001b[0m:\u001b[36mload\u001b[0m:\u001b[36m81\u001b[0m - \u001b[1mDownloading INCC_Mensal (192) from the Central Bank of Brazil API...\u001b[0m\n",
      "\u001b[32m2025-07-15 19:13:03.628\u001b[0m | \u001b[1mINFO    \u001b[0m | \u001b[36msrc.utils.dataset.dataset_loading_strategy\u001b[0m:\u001b[36mload\u001b[0m:\u001b[36m81\u001b[0m - \u001b[1mDownloading Indice_Condicoes_Econ_BR (27574) from the Central Bank of Brazil API...\u001b[0m\n",
      "\u001b[32m2025-07-15 19:13:06.091\u001b[0m | \u001b[1mINFO    \u001b[0m | \u001b[36msrc.utils.dataset.dataset_loading_strategy\u001b[0m:\u001b[36mload\u001b[0m:\u001b[36m81\u001b[0m - \u001b[1mDownloading Indice_Condicoes_Econ_BR_USD (29042) from the Central Bank of Brazil API...\u001b[0m\n",
      "\u001b[32m2025-07-15 19:13:08.732\u001b[0m | \u001b[1mINFO    \u001b[0m | \u001b[36msrc.utils.dataset.dataset_loading_strategy\u001b[0m:\u001b[36mload\u001b[0m:\u001b[36m81\u001b[0m - \u001b[1mDownloading Salario_Minimo (1619) from the Central Bank of Brazil API...\u001b[0m\n",
      "\u001b[32m2025-07-15 19:13:11.343\u001b[0m | \u001b[1mINFO    \u001b[0m | \u001b[36msrc.utils.dataset.dataset_loading_strategy\u001b[0m:\u001b[36mload\u001b[0m:\u001b[36m81\u001b[0m - \u001b[1mDownloading IBC_BR (24363) from the Central Bank of Brazil API...\u001b[0m\n",
      "\u001b[32m2025-07-15 19:13:13.903\u001b[0m | \u001b[1mINFO    \u001b[0m | \u001b[36msrc.utils.dataset.dataset_loading_strategy\u001b[0m:\u001b[36mload\u001b[0m:\u001b[36m81\u001b[0m - \u001b[1mDownloading Populacao_BR (21774) from the Central Bank of Brazil API...\u001b[0m\n",
      "\u001b[32m2025-07-15 19:13:16.235\u001b[0m | \u001b[1mINFO    \u001b[0m | \u001b[36msrc.utils.dataset.dataset_loading_strategy\u001b[0m:\u001b[36mload\u001b[0m:\u001b[36m81\u001b[0m - \u001b[1mDownloading PIB_Trimestral_Real (4380) from the Central Bank of Brazil API...\u001b[0m\n",
      "\u001b[32m2025-07-15 19:13:18.768\u001b[0m | \u001b[1mINFO    \u001b[0m | \u001b[36msrc.utils.dataset.dataset_loading_strategy\u001b[0m:\u001b[36mload\u001b[0m:\u001b[36m81\u001b[0m - \u001b[1mDownloading PIB_Anual_Corrente (7326) from the Central Bank of Brazil API...\u001b[0m\n",
      "\u001b[32m2025-07-15 19:13:21.467\u001b[0m | \u001b[1mINFO    \u001b[0m | \u001b[36msrc.utils.dataset.dataset_loading_strategy\u001b[0m:\u001b[36mload\u001b[0m:\u001b[36m81\u001b[0m - \u001b[1mDownloading Deflator_Implicito_PIB (1211) from the Central Bank of Brazil API...\u001b[0m\n",
      "\u001b[32m2025-07-15 19:13:23.840\u001b[0m | \u001b[1mINFO    \u001b[0m | \u001b[36msrc.utils.dataset.dataset_loading_strategy\u001b[0m:\u001b[36mload\u001b[0m:\u001b[36m136\u001b[0m - \u001b[1mDownloading BRL_USD (DEXBZUS) from DataReader...\u001b[0m\n",
      "\u001b[32m2025-07-15 19:13:28.165\u001b[0m | \u001b[1mINFO    \u001b[0m | \u001b[36msrc.utils.dataset.dataset_loading_strategy\u001b[0m:\u001b[36mload\u001b[0m:\u001b[36m136\u001b[0m - \u001b[1mDownloading CPI_USA (CPIAUCSL) from DataReader...\u001b[0m\n",
      "\u001b[32m2025-07-15 19:13:30.897\u001b[0m | \u001b[1mINFO    \u001b[0m | \u001b[36msrc.dataset\u001b[0m:\u001b[36mmain\u001b[0m:\u001b[36m58\u001b[0m - \u001b[1mSaved Yfinance_IndBovespa dataset to C:\\Repositories\\time-series-prediction-rnn\\data\\raw\\Yfinance_IndBovespa.csv\u001b[0m\n",
      "\u001b[32m2025-07-15 19:13:30.928\u001b[0m | \u001b[1mINFO    \u001b[0m | \u001b[36msrc.dataset\u001b[0m:\u001b[36mmain\u001b[0m:\u001b[36m58\u001b[0m - \u001b[1mSaved Yfinance_IndNasdaq dataset to C:\\Repositories\\time-series-prediction-rnn\\data\\raw\\Yfinance_IndNasdaq.csv\u001b[0m\n",
      "\u001b[32m2025-07-15 19:13:30.948\u001b[0m | \u001b[1mINFO    \u001b[0m | \u001b[36msrc.dataset\u001b[0m:\u001b[36mmain\u001b[0m:\u001b[36m58\u001b[0m - \u001b[1mSaved Yfinance_IndSp500 dataset to C:\\Repositories\\time-series-prediction-rnn\\data\\raw\\Yfinance_IndSp500.csv\u001b[0m\n",
      "\u001b[32m2025-07-15 19:13:30.969\u001b[0m | \u001b[1mINFO    \u001b[0m | \u001b[36msrc.dataset\u001b[0m:\u001b[36mmain\u001b[0m:\u001b[36m58\u001b[0m - \u001b[1mSaved Yfinance_IndDji dataset to C:\\Repositories\\time-series-prediction-rnn\\data\\raw\\Yfinance_IndDji.csv\u001b[0m\n",
      "\u001b[32m2025-07-15 19:13:30.997\u001b[0m | \u001b[1mINFO    \u001b[0m | \u001b[36msrc.dataset\u001b[0m:\u001b[36mmain\u001b[0m:\u001b[36m58\u001b[0m - \u001b[1mSaved Yfinance_BtcUsd dataset to C:\\Repositories\\time-series-prediction-rnn\\data\\raw\\Yfinance_BtcUsd.csv\u001b[0m\n",
      "\u001b[32m2025-07-15 19:13:31.021\u001b[0m | \u001b[1mINFO    \u001b[0m | \u001b[36msrc.dataset\u001b[0m:\u001b[36mmain\u001b[0m:\u001b[36m58\u001b[0m - \u001b[1mSaved Yfinance_EurUsd dataset to C:\\Repositories\\time-series-prediction-rnn\\data\\raw\\Yfinance_EurUsd.csv\u001b[0m\n",
      "\u001b[32m2025-07-15 19:13:31.041\u001b[0m | \u001b[1mINFO    \u001b[0m | \u001b[36msrc.dataset\u001b[0m:\u001b[36mmain\u001b[0m:\u001b[36m58\u001b[0m - \u001b[1mSaved Yfinance_FutOuro dataset to C:\\Repositories\\time-series-prediction-rnn\\data\\raw\\Yfinance_FutOuro.csv\u001b[0m\n",
      "\u001b[32m2025-07-15 19:13:31.063\u001b[0m | \u001b[1mINFO    \u001b[0m | \u001b[36msrc.dataset\u001b[0m:\u001b[36mmain\u001b[0m:\u001b[36m58\u001b[0m - \u001b[1mSaved Yfinance_FutPrata dataset to C:\\Repositories\\time-series-prediction-rnn\\data\\raw\\Yfinance_FutPrata.csv\u001b[0m\n",
      "\u001b[32m2025-07-15 19:13:31.086\u001b[0m | \u001b[1mINFO    \u001b[0m | \u001b[36msrc.dataset\u001b[0m:\u001b[36mmain\u001b[0m:\u001b[36m58\u001b[0m - \u001b[1mSaved Yfinance_futCobre dataset to C:\\Repositories\\time-series-prediction-rnn\\data\\raw\\Yfinance_futCobre.csv\u001b[0m\n",
      "\u001b[32m2025-07-15 19:13:31.109\u001b[0m | \u001b[1mINFO    \u001b[0m | \u001b[36msrc.dataset\u001b[0m:\u001b[36mmain\u001b[0m:\u001b[36m58\u001b[0m - \u001b[1mSaved Yfinance_FutPetroleo dataset to C:\\Repositories\\time-series-prediction-rnn\\data\\raw\\Yfinance_FutPetroleo.csv\u001b[0m\n",
      "\u001b[32m2025-07-15 19:13:31.135\u001b[0m | \u001b[1mINFO    \u001b[0m | \u001b[36msrc.dataset\u001b[0m:\u001b[36mmain\u001b[0m:\u001b[36m58\u001b[0m - \u001b[1mSaved Yfinance_FutOleo dataset to C:\\Repositories\\time-series-prediction-rnn\\data\\raw\\Yfinance_FutOleo.csv\u001b[0m\n",
      "\u001b[32m2025-07-15 19:13:31.166\u001b[0m | \u001b[1mINFO    \u001b[0m | \u001b[36msrc.dataset\u001b[0m:\u001b[36mmain\u001b[0m:\u001b[36m58\u001b[0m - \u001b[1mSaved Yfinance_FutGasNatural dataset to C:\\Repositories\\time-series-prediction-rnn\\data\\raw\\Yfinance_FutGasNatural.csv\u001b[0m\n",
      "\u001b[32m2025-07-15 19:13:31.194\u001b[0m | \u001b[1mINFO    \u001b[0m | \u001b[36msrc.dataset\u001b[0m:\u001b[36mmain\u001b[0m:\u001b[36m58\u001b[0m - \u001b[1mSaved Yfinance_FutGasolina dataset to C:\\Repositories\\time-series-prediction-rnn\\data\\raw\\Yfinance_FutGasolina.csv\u001b[0m\n",
      "\u001b[32m2025-07-15 19:13:31.219\u001b[0m | \u001b[1mINFO    \u001b[0m | \u001b[36msrc.dataset\u001b[0m:\u001b[36mmain\u001b[0m:\u001b[36m58\u001b[0m - \u001b[1mSaved Yfinance_FutAcucar dataset to C:\\Repositories\\time-series-prediction-rnn\\data\\raw\\Yfinance_FutAcucar.csv\u001b[0m\n",
      "\u001b[32m2025-07-15 19:13:31.246\u001b[0m | \u001b[1mINFO    \u001b[0m | \u001b[36msrc.dataset\u001b[0m:\u001b[36mmain\u001b[0m:\u001b[36m58\u001b[0m - \u001b[1mSaved Yfinance_FutMilho dataset to C:\\Repositories\\time-series-prediction-rnn\\data\\raw\\Yfinance_FutMilho.csv\u001b[0m\n",
      "\u001b[32m2025-07-15 19:13:31.269\u001b[0m | \u001b[1mINFO    \u001b[0m | \u001b[36msrc.dataset\u001b[0m:\u001b[36mmain\u001b[0m:\u001b[36m58\u001b[0m - \u001b[1mSaved Yfinance_FutArroz dataset to C:\\Repositories\\time-series-prediction-rnn\\data\\raw\\Yfinance_FutArroz.csv\u001b[0m\n",
      "\u001b[32m2025-07-15 19:13:31.297\u001b[0m | \u001b[1mINFO    \u001b[0m | \u001b[36msrc.dataset\u001b[0m:\u001b[36mmain\u001b[0m:\u001b[36m58\u001b[0m - \u001b[1mSaved Yfinance_FutSoja dataset to C:\\Repositories\\time-series-prediction-rnn\\data\\raw\\Yfinance_FutSoja.csv\u001b[0m\n",
      "\u001b[32m2025-07-15 19:13:31.325\u001b[0m | \u001b[1mINFO    \u001b[0m | \u001b[36msrc.dataset\u001b[0m:\u001b[36mmain\u001b[0m:\u001b[36m58\u001b[0m - \u001b[1mSaved Yfinance_FutCafe dataset to C:\\Repositories\\time-series-prediction-rnn\\data\\raw\\Yfinance_FutCafe.csv\u001b[0m\n",
      "\u001b[32m2025-07-15 19:13:31.351\u001b[0m | \u001b[1mINFO    \u001b[0m | \u001b[36msrc.dataset\u001b[0m:\u001b[36mmain\u001b[0m:\u001b[36m58\u001b[0m - \u001b[1mSaved Yfinance_FutGado dataset to C:\\Repositories\\time-series-prediction-rnn\\data\\raw\\Yfinance_FutGado.csv\u001b[0m\n",
      "\u001b[32m2025-07-15 19:13:31.384\u001b[0m | \u001b[1mINFO    \u001b[0m | \u001b[36msrc.dataset\u001b[0m:\u001b[36mmain\u001b[0m:\u001b[36m58\u001b[0m - \u001b[1mSaved Yfinance_FutPorco dataset to C:\\Repositories\\time-series-prediction-rnn\\data\\raw\\Yfinance_FutPorco.csv\u001b[0m\n",
      "\u001b[32m2025-07-15 19:13:31.413\u001b[0m | \u001b[1mINFO    \u001b[0m | \u001b[36msrc.dataset\u001b[0m:\u001b[36mmain\u001b[0m:\u001b[36m58\u001b[0m - \u001b[1mSaved Yfinance_FutAlgodao dataset to C:\\Repositories\\time-series-prediction-rnn\\data\\raw\\Yfinance_FutAlgodao.csv\u001b[0m\n",
      "\u001b[32m2025-07-15 19:13:31.436\u001b[0m | \u001b[1mINFO    \u001b[0m | \u001b[36msrc.dataset\u001b[0m:\u001b[36mmain\u001b[0m:\u001b[36m58\u001b[0m - \u001b[1mSaved Yfinance_JurosFuturo dataset to C:\\Repositories\\time-series-prediction-rnn\\data\\raw\\Yfinance_JurosFuturo.csv\u001b[0m\n",
      "\u001b[32m2025-07-15 19:13:31.448\u001b[0m | \u001b[1mINFO    \u001b[0m | \u001b[36msrc.dataset\u001b[0m:\u001b[36mmain\u001b[0m:\u001b[36m58\u001b[0m - \u001b[1mSaved Bcb_SELIC dataset to C:\\Repositories\\time-series-prediction-rnn\\data\\raw\\Bcb_SELIC.csv\u001b[0m\n",
      "\u001b[32m2025-07-15 19:13:31.457\u001b[0m | \u001b[1mINFO    \u001b[0m | \u001b[36msrc.dataset\u001b[0m:\u001b[36mmain\u001b[0m:\u001b[36m58\u001b[0m - \u001b[1mSaved Bcb_CDI dataset to C:\\Repositories\\time-series-prediction-rnn\\data\\raw\\Bcb_CDI.csv\u001b[0m\n",
      "\u001b[32m2025-07-15 19:13:31.470\u001b[0m | \u001b[1mINFO    \u001b[0m | \u001b[36msrc.dataset\u001b[0m:\u001b[36mmain\u001b[0m:\u001b[36m58\u001b[0m - \u001b[1mSaved Bcb_SELIC_Anual dataset to C:\\Repositories\\time-series-prediction-rnn\\data\\raw\\Bcb_SELIC_Anual.csv\u001b[0m\n",
      "\u001b[32m2025-07-15 19:13:31.477\u001b[0m | \u001b[1mINFO    \u001b[0m | \u001b[36msrc.dataset\u001b[0m:\u001b[36mmain\u001b[0m:\u001b[36m58\u001b[0m - \u001b[1mSaved Bcb_IPCA_Mensal dataset to C:\\Repositories\\time-series-prediction-rnn\\data\\raw\\Bcb_IPCA_Mensal.csv\u001b[0m\n",
      "\u001b[32m2025-07-15 19:13:31.481\u001b[0m | \u001b[1mINFO    \u001b[0m | \u001b[36msrc.dataset\u001b[0m:\u001b[36mmain\u001b[0m:\u001b[36m58\u001b[0m - \u001b[1mSaved Bcb_IGP_M_Mensal dataset to C:\\Repositories\\time-series-prediction-rnn\\data\\raw\\Bcb_IGP_M_Mensal.csv\u001b[0m\n",
      "\u001b[32m2025-07-15 19:13:31.486\u001b[0m | \u001b[1mINFO    \u001b[0m | \u001b[36msrc.dataset\u001b[0m:\u001b[36mmain\u001b[0m:\u001b[36m58\u001b[0m - \u001b[1mSaved Bcb_INCC_Mensal dataset to C:\\Repositories\\time-series-prediction-rnn\\data\\raw\\Bcb_INCC_Mensal.csv\u001b[0m\n",
      "\u001b[32m2025-07-15 19:13:31.492\u001b[0m | \u001b[1mINFO    \u001b[0m | \u001b[36msrc.dataset\u001b[0m:\u001b[36mmain\u001b[0m:\u001b[36m58\u001b[0m - \u001b[1mSaved Bcb_Indice_Condicoes_Econ_BR dataset to C:\\Repositories\\time-series-prediction-rnn\\data\\raw\\Bcb_Indice_Condicoes_Econ_BR.csv\u001b[0m\n",
      "\u001b[32m2025-07-15 19:13:31.497\u001b[0m | \u001b[1mINFO    \u001b[0m | \u001b[36msrc.dataset\u001b[0m:\u001b[36mmain\u001b[0m:\u001b[36m58\u001b[0m - \u001b[1mSaved Bcb_Indice_Condicoes_Econ_BR_USD dataset to C:\\Repositories\\time-series-prediction-rnn\\data\\raw\\Bcb_Indice_Condicoes_Econ_BR_USD.csv\u001b[0m\n",
      "\u001b[32m2025-07-15 19:13:31.502\u001b[0m | \u001b[1mINFO    \u001b[0m | \u001b[36msrc.dataset\u001b[0m:\u001b[36mmain\u001b[0m:\u001b[36m58\u001b[0m - \u001b[1mSaved Bcb_Salario_Minimo dataset to C:\\Repositories\\time-series-prediction-rnn\\data\\raw\\Bcb_Salario_Minimo.csv\u001b[0m\n",
      "\u001b[32m2025-07-15 19:13:31.508\u001b[0m | \u001b[1mINFO    \u001b[0m | \u001b[36msrc.dataset\u001b[0m:\u001b[36mmain\u001b[0m:\u001b[36m58\u001b[0m - \u001b[1mSaved Bcb_IBC_BR dataset to C:\\Repositories\\time-series-prediction-rnn\\data\\raw\\Bcb_IBC_BR.csv\u001b[0m\n",
      "\u001b[32m2025-07-15 19:13:31.513\u001b[0m | \u001b[1mINFO    \u001b[0m | \u001b[36msrc.dataset\u001b[0m:\u001b[36mmain\u001b[0m:\u001b[36m58\u001b[0m - \u001b[1mSaved Bcb_Populacao_BR dataset to C:\\Repositories\\time-series-prediction-rnn\\data\\raw\\Bcb_Populacao_BR.csv\u001b[0m\n",
      "\u001b[32m2025-07-15 19:13:31.518\u001b[0m | \u001b[1mINFO    \u001b[0m | \u001b[36msrc.dataset\u001b[0m:\u001b[36mmain\u001b[0m:\u001b[36m58\u001b[0m - \u001b[1mSaved Bcb_PIB_Trimestral_Real dataset to C:\\Repositories\\time-series-prediction-rnn\\data\\raw\\Bcb_PIB_Trimestral_Real.csv\u001b[0m\n",
      "\u001b[32m2025-07-15 19:13:31.526\u001b[0m | \u001b[1mINFO    \u001b[0m | \u001b[36msrc.dataset\u001b[0m:\u001b[36mmain\u001b[0m:\u001b[36m58\u001b[0m - \u001b[1mSaved Bcb_PIB_Anual_Corrente dataset to C:\\Repositories\\time-series-prediction-rnn\\data\\raw\\Bcb_PIB_Anual_Corrente.csv\u001b[0m\n",
      "\u001b[32m2025-07-15 19:13:31.530\u001b[0m | \u001b[1mINFO    \u001b[0m | \u001b[36msrc.dataset\u001b[0m:\u001b[36mmain\u001b[0m:\u001b[36m58\u001b[0m - \u001b[1mSaved Bcb_Deflator_Implicito_PIB dataset to C:\\Repositories\\time-series-prediction-rnn\\data\\raw\\Bcb_Deflator_Implicito_PIB.csv\u001b[0m\n",
      "\u001b[32m2025-07-15 19:13:31.541\u001b[0m | \u001b[1mINFO    \u001b[0m | \u001b[36msrc.dataset\u001b[0m:\u001b[36mmain\u001b[0m:\u001b[36m58\u001b[0m - \u001b[1mSaved DataReader_BRL_USD dataset to C:\\Repositories\\time-series-prediction-rnn\\data\\raw\\DataReader_BRL_USD.csv\u001b[0m\n",
      "\u001b[32m2025-07-15 19:13:31.549\u001b[0m | \u001b[1mINFO    \u001b[0m | \u001b[36msrc.dataset\u001b[0m:\u001b[36mmain\u001b[0m:\u001b[36m58\u001b[0m - \u001b[1mSaved DataReader_CPI_USA dataset to C:\\Repositories\\time-series-prediction-rnn\\data\\raw\\DataReader_CPI_USA.csv\u001b[0m\n"
     ]
    },
    {
     "name": "stderr",
     "output_type": "stream",
     "text": [
      "INFO:src.utils.dataset.clean_strategy:Executing CleanMissingValues...\n",
      "INFO:src.utils.dataset.clean_strategy:Executing CleanLowVariance with threshold=0.01...\n",
      "INFO:src.utils.dataset.clean_strategy:Columns removed due to low variance: Index([], dtype='object')\n"
     ]
    },
    {
     "name": "stdout",
     "output_type": "stream",
     "text": [
      "            Close_^BVSP  High_^BVSP  Low_^BVSP  Open_^BVSP  Volume_^BVSP  \\\n",
      "2025-07-09     137481.0    139331.0   137299.0    139303.0     7584500.0   \n",
      "2025-07-10     136743.0    137472.0   136015.0    137472.0     9566200.0   \n",
      "2025-07-11     136187.0    136742.0   135528.0    136742.0     7401900.0   \n",
      "2025-07-12          NaN         NaN        NaN         NaN           NaN   \n",
      "2025-07-13          NaN         NaN        NaN         NaN           NaN   \n",
      "2025-07-14     135299.0    136187.0   134840.0    136187.0     7325600.0   \n",
      "2025-07-15          NaN         NaN        NaN         NaN           NaN   \n",
      "\n",
      "             Close_^IXIC    High_^IXIC     Low_^IXIC    Open_^IXIC  \\\n",
      "2025-07-09  20611.339844  20645.410156  20486.380859  20522.089844   \n",
      "2025-07-10  20630.660156  20655.390625  20495.140625  20636.480469   \n",
      "2025-07-11  20585.529297  20647.970703  20509.750000  20562.880859   \n",
      "2025-07-12           NaN           NaN           NaN           NaN   \n",
      "2025-07-13           NaN           NaN           NaN           NaN   \n",
      "2025-07-14  20640.330078  20672.339844  20492.630859  20592.560547   \n",
      "2025-07-15           NaN           NaN           NaN           NaN   \n",
      "\n",
      "            Volume_^IXIC  ...  Indice_Condicoes_Econ_BR  \\\n",
      "2025-07-09  9.978310e+09  ...                       NaN   \n",
      "2025-07-10  9.781380e+09  ...                       NaN   \n",
      "2025-07-11  8.135800e+09  ...                       NaN   \n",
      "2025-07-12           NaN  ...                       NaN   \n",
      "2025-07-13           NaN  ...                       NaN   \n",
      "2025-07-14  8.010060e+09  ...                       NaN   \n",
      "2025-07-15           NaN  ...                       NaN   \n",
      "\n",
      "            Indice_Condicoes_Econ_BR_USD  Salario_Minimo  IBC_BR  \\\n",
      "2025-07-09                           NaN             NaN     NaN   \n",
      "2025-07-10                           NaN             NaN     NaN   \n",
      "2025-07-11                           NaN             NaN     NaN   \n",
      "2025-07-12                           NaN             NaN     NaN   \n",
      "2025-07-13                           NaN             NaN     NaN   \n",
      "2025-07-14                           NaN             NaN     NaN   \n",
      "2025-07-15                           NaN             NaN     NaN   \n",
      "\n",
      "            Populacao_BR  PIB_Trimestral_Real  PIB_Anual_Corrente  \\\n",
      "2025-07-09           NaN                  NaN                 NaN   \n",
      "2025-07-10           NaN                  NaN                 NaN   \n",
      "2025-07-11           NaN                  NaN                 NaN   \n",
      "2025-07-12           NaN                  NaN                 NaN   \n",
      "2025-07-13           NaN                  NaN                 NaN   \n",
      "2025-07-14           NaN                  NaN                 NaN   \n",
      "2025-07-15           NaN                  NaN                 NaN   \n",
      "\n",
      "            Deflator_Implicito_PIB  DEXBZUS  CPIAUCSL  \n",
      "2025-07-09                     NaN   5.4552       NaN  \n",
      "2025-07-10                     NaN   5.5355       NaN  \n",
      "2025-07-11                     NaN   5.5723       NaN  \n",
      "2025-07-12                     NaN      NaN       NaN  \n",
      "2025-07-13                     NaN      NaN       NaN  \n",
      "2025-07-14                     NaN      NaN       NaN  \n",
      "2025-07-15                     NaN      NaN       NaN  \n",
      "\n",
      "[7 rows x 126 columns]\n",
      "\u001b[32m2025-07-15 19:13:32.081\u001b[0m | \u001b[32m\u001b[1mSUCCESS \u001b[0m | \u001b[36msrc.dataset\u001b[0m:\u001b[36mmain\u001b[0m:\u001b[36m69\u001b[0m - \u001b[32m\u001b[1mRaw data successfully loaded...\u001b[0m\n",
      "            Close_^BVSP  High_^BVSP  Low_^BVSP  Open_^BVSP  Volume_^BVSP  \\\n",
      "2025-07-04     0.003903    0.001649   0.011118    0.013499     -0.652379   \n",
      "2025-07-07    -0.014052   -0.001378  -0.009261    0.002391      1.893298   \n",
      "2025-07-08    -0.001341   -0.012388  -0.003769   -0.012558      0.103444   \n",
      "2025-07-09    -0.013079   -0.001863  -0.010600   -0.001348      0.123613   \n",
      "2025-07-10    -0.005368   -0.013342  -0.009352   -0.013144      0.261283   \n",
      "2025-07-11    -0.004066   -0.005310  -0.003580   -0.005310     -0.226244   \n",
      "2025-07-14    -0.006520   -0.004059  -0.005076   -0.004059     -0.010308   \n",
      "\n",
      "            Close_^IXIC  High_^IXIC  Low_^IXIC  Open_^IXIC  Volume_^IXIC  ...  \\\n",
      "2025-07-04     0.000000    0.000000   0.000000    0.000000      0.000000  ...   \n",
      "2025-07-07    -0.009154   -0.005464  -0.007676   -0.000347      0.350895  ...   \n",
      "2025-07-08     0.000291   -0.001508   0.002674   -0.001153      0.010996  ...   \n",
      "2025-07-09     0.009446    0.008033   0.005350    0.002695      0.182617  ...   \n",
      "2025-07-10     0.000937    0.000483   0.000428    0.005574     -0.019736  ...   \n",
      "2025-07-11    -0.002188   -0.000359   0.000713   -0.003566     -0.168236  ...   \n",
      "2025-07-14     0.002662    0.001180  -0.000835    0.001443     -0.015455  ...   \n",
      "\n",
      "            Indice_Condicoes_Econ_BR  Indice_Condicoes_Econ_BR_USD  \\\n",
      "2025-07-04                       0.0                           0.0   \n",
      "2025-07-07                       0.0                           0.0   \n",
      "2025-07-08                       0.0                           0.0   \n",
      "2025-07-09                       0.0                           0.0   \n",
      "2025-07-10                       0.0                           0.0   \n",
      "2025-07-11                       0.0                           0.0   \n",
      "2025-07-14                       0.0                           0.0   \n",
      "\n",
      "            Salario_Minimo  IBC_BR  Populacao_BR  PIB_Trimestral_Real  \\\n",
      "2025-07-04             0.0     0.0           0.0                  0.0   \n",
      "2025-07-07             0.0     0.0           0.0                  0.0   \n",
      "2025-07-08             0.0     0.0           0.0                  0.0   \n",
      "2025-07-09             0.0     0.0           0.0                  0.0   \n",
      "2025-07-10             0.0     0.0           0.0                  0.0   \n",
      "2025-07-11             0.0     0.0           0.0                  0.0   \n",
      "2025-07-14             0.0     0.0           0.0                  0.0   \n",
      "\n",
      "            PIB_Anual_Corrente  Deflator_Implicito_PIB   DEXBZUS  CPIAUCSL  \n",
      "2025-07-04                 0.0                     0.0  0.000000       0.0  \n",
      "2025-07-07                 0.0                     0.0  0.008491       0.0  \n",
      "2025-07-08                 0.0                     0.0 -0.000695       0.0  \n",
      "2025-07-09                 0.0                     0.0 -0.000879       0.0  \n",
      "2025-07-10                 0.0                     0.0  0.014720       0.0  \n",
      "2025-07-11                 0.0                     0.0  0.006648       0.0  \n",
      "2025-07-14                 0.0                     0.0  0.000000       0.0  \n",
      "\n",
      "[7 rows x 126 columns]\n"
     ]
    },
    {
     "name": "stderr",
     "output_type": "stream",
     "text": [
      "c:\\Repositories\\time-series-prediction-rnn\\.venv\\Lib\\site-packages\\sklearn\\utils\\validation.py:1408: DataConversionWarning: A column-vector y was passed when a 1d array was expected. Please change the shape of y to (n_samples, ), for example using ravel().\n",
      "  y = column_or_1d(y, warn=True)\n",
      "c:\\Repositories\\time-series-prediction-rnn\\.venv\\Lib\\site-packages\\sklearn\\feature_selection\\_univariate_selection.py:112: RuntimeWarning: divide by zero encountered in divide\n",
      "  f = msb / msw\n",
      "INFO:src.utils.dataset.clean_strategy:Columns removed by f_classif: ['Volume_HO=F', 'Volume_LE=F']\n",
      "c:\\Repositories\\time-series-prediction-rnn\\.venv\\Lib\\site-packages\\sklearn\\utils\\validation.py:1408: DataConversionWarning: A column-vector y was passed when a 1d array was expected. Please change the shape of y to (n_samples, ), for example using ravel().\n",
      "  y = column_or_1d(y, warn=True)\n",
      "INFO:src.utils.dataset.clean_strategy:Columns removed by f_regression: ['IGP_M_Mensal', 'IPCA_Mensal']\n"
     ]
    },
    {
     "name": "stdout",
     "output_type": "stream",
     "text": [
      "            Close_^BVSP  Volume_^BVSP  Volume_^GSPC  Volume_BTC-USD  \\\n",
      "2025-07-03     0.013499     -0.309774     -0.401650       -0.102294   \n",
      "2025-07-04     0.003903     -0.652379      0.000000       -0.156022   \n",
      "2025-07-07    -0.014052      1.893298      0.550198        0.065685   \n",
      "2025-07-08    -0.001341      0.103444      0.095917       -0.024958   \n",
      "2025-07-09    -0.013079      0.123613     -0.161297        0.308142   \n",
      "2025-07-10    -0.005368      0.261283      0.115099        0.655720   \n",
      "2025-07-11    -0.004066     -0.226244     -0.132494       -0.093662   \n",
      "\n",
      "            Volume_GC=F  Volume_CL=F  IPCA_Mensal  IGP_M_Mensal month_name  \\\n",
      "2025-07-03    -1.000000    -1.000000          0.0           0.0       July   \n",
      "2025-07-04     0.000000     0.000000          0.0           0.0       July   \n",
      "2025-07-07     0.000000     0.000000          0.0           0.0       July   \n",
      "2025-07-08     2.578740    -0.339593          0.0           0.0       July   \n",
      "2025-07-09    -0.874587     0.018478          0.0           0.0       July   \n",
      "2025-07-10     0.833333     0.154989          0.0           0.0       July   \n",
      "2025-07-11     0.000000     0.000000          0.0           0.0       July   \n",
      "\n",
      "            week_of_month  ... Open_ZR=F  Volume_ZR=F  Volume_ZS=F  \\\n",
      "2025-07-03              1  ... -0.000396     0.000000    -1.000000   \n",
      "2025-07-04              1  ...  0.000000     0.000000     0.000000   \n",
      "2025-07-07              2  ... -0.011895     0.000000     0.000000   \n",
      "2025-07-08              2  ...  0.017657    -1.000000    -0.805216   \n",
      "2025-07-09              2  ...  0.009069     0.000000    -0.924686   \n",
      "2025-07-10              2  ... -0.016803    -0.985507     1.666667   \n",
      "2025-07-11              2  ... -0.007949     0.000000     0.000000   \n",
      "\n",
      "            Volume_KC=F  Volume_LE=F  Volume_HE=F  Volume_CT=F  Volume_ZB=F  \\\n",
      "2025-07-03         -1.0    -1.000000    -1.000000     0.000000    -1.000000   \n",
      "2025-07-04          0.0     0.000000     0.000000     0.000000     0.000000   \n",
      "2025-07-07          0.0     0.000000     0.000000     0.000000     0.000000   \n",
      "2025-07-08         -1.0     0.948997    -0.361394     0.000000    -0.252763   \n",
      "2025-07-09          0.0    -0.171438    -0.141758     0.000000     0.120144   \n",
      "2025-07-10          0.0     0.303680    -0.351052     1.575758    -0.104348   \n",
      "2025-07-11          0.0     0.000000     0.000000     0.000000     0.000000   \n",
      "\n",
      "            Volume_HG=F  INCC_Mensal  \n",
      "2025-07-03    -1.000000          0.0  \n",
      "2025-07-04     0.000000          0.0  \n",
      "2025-07-07     0.000000          0.0  \n",
      "2025-07-08     0.284123          0.0  \n",
      "2025-07-09    -0.070499          0.0  \n",
      "2025-07-10    -0.117853          0.0  \n",
      "2025-07-11     0.000000          0.0  \n",
      "\n",
      "[7 rows x 34 columns]\n",
      "            Close_^BVSP  Volume_^BVSP  Volume_^GSPC  Volume_BTC-USD  \\\n",
      "2025-07-04     0.003903     -0.652379      0.000000       -0.156022   \n",
      "2025-07-07    -0.014052      1.893298      0.550198        0.065685   \n",
      "2025-07-08    -0.001341      0.103444      0.095917       -0.024958   \n",
      "2025-07-09    -0.013079      0.123613     -0.161297        0.308142   \n",
      "2025-07-10    -0.005368      0.261283      0.115099        0.655720   \n",
      "2025-07-11    -0.004066     -0.226244     -0.132494       -0.093662   \n",
      "2025-07-14    -0.006520     -0.010308      0.014183        1.090761   \n",
      "\n",
      "            Volume_GC=F  Volume_CL=F  IPCA_Mensal  IGP_M_Mensal month_name  \\\n",
      "2025-07-04     0.000000     0.000000          0.0           0.0       July   \n",
      "2025-07-07     0.000000     0.000000          0.0           0.0       July   \n",
      "2025-07-08     2.578740    -0.339593          0.0           0.0       July   \n",
      "2025-07-09    -0.874587     0.018478          0.0           0.0       July   \n",
      "2025-07-10     0.833333     0.154989          0.0           0.0       July   \n",
      "2025-07-11     2.712919    -0.125098          0.0           0.0       July   \n",
      "2025-07-14     0.000000     0.000000          0.0           0.0       July   \n",
      "\n",
      "            week_of_month  ... Open_ZR=F  Volume_ZR=F  Volume_ZS=F  \\\n",
      "2025-07-04              1  ...  0.000000     0.000000     0.000000   \n",
      "2025-07-07              2  ... -0.011895     0.000000     0.000000   \n",
      "2025-07-08              2  ...  0.017657    -1.000000    -0.805216   \n",
      "2025-07-09              2  ...  0.009069     0.000000    -0.924686   \n",
      "2025-07-10              2  ... -0.016803    -0.985507     1.666667   \n",
      "2025-07-11              2  ... -0.007949    34.000000    -0.541667   \n",
      "2025-07-14              3  ... -0.008413     0.000000     0.000000   \n",
      "\n",
      "            Volume_KC=F  Volume_LE=F  Volume_HE=F  Volume_CT=F  Volume_ZB=F  \\\n",
      "2025-07-04          0.0     0.000000     0.000000     0.000000     0.000000   \n",
      "2025-07-07          0.0     0.000000     0.000000     0.000000     0.000000   \n",
      "2025-07-08         -1.0     0.948997    -0.361394     0.000000    -0.252763   \n",
      "2025-07-09          0.0    -0.171438    -0.141758     0.000000     0.120144   \n",
      "2025-07-10          0.0     0.303680    -0.351052     1.575758    -0.104348   \n",
      "2025-07-11          0.0     0.000000     0.170352    -0.905882     0.021348   \n",
      "2025-07-14          0.0     0.000000     0.000000     0.000000     0.000000   \n",
      "\n",
      "            Volume_HG=F  INCC_Mensal  \n",
      "2025-07-04     0.000000          0.0  \n",
      "2025-07-07     0.000000          0.0  \n",
      "2025-07-08     0.284123          0.0  \n",
      "2025-07-09    -0.070499          0.0  \n",
      "2025-07-10    -0.117853          0.0  \n",
      "2025-07-11     0.431217          0.0  \n",
      "2025-07-14     0.000000          0.0  \n",
      "\n",
      "[7 rows x 34 columns]\n",
      "\u001b[32m2025-07-15 19:13:34.918\u001b[0m | \u001b[32m\u001b[1mSUCCESS \u001b[0m | \u001b[36msrc.dataset\u001b[0m:\u001b[36mmain\u001b[0m:\u001b[36m109\u001b[0m - \u001b[32m\u001b[1mClean data successfully loaded...\u001b[0m\n",
      "\u001b[32m2025-07-15 19:13:34.919\u001b[0m | \u001b[1mINFO    \u001b[0m | \u001b[36msrc.dataset\u001b[0m:\u001b[36mmain\u001b[0m:\u001b[36m113\u001b[0m - \u001b[1mTotal time taken: 177.89 seconds\u001b[0m\n"
     ]
    }
   ],
   "source": [
    "from src import dataset\n",
    "\n",
    "dataset.main(\n",
    "    # ---- REPLACE DEFAULT AS APPROPRIATE ----\n",
    "    asset = '^BVSP',\n",
    "    asset_focus = 'Close',\n",
    "    years = 9\n",
    "    # -----------------------------------------\n",
    "    )"
   ]
  },
  {
   "cell_type": "markdown",
   "id": "31fce4b8",
   "metadata": {},
   "source": [
    "## Feature Engineering — Time Series Preparation\n",
    "\n",
    "This part of the pipeline is responsible for transforming the cleaned dataset into structured features suitable for training time series models. It includes the following key steps:\n",
    "- Feature Generation: Constructs relevant features based on historical market data.\n",
    "- Dataset Splitting: The dataset is split into training and testing sets using a consistent strategy to preserve temporal structure.\n",
    "- Time Series Windowing: Converts the sequential data into overlapping windows, enabling the model to learn temporal dependencies.\n",
    "- Saving Artifacts: Both training and testing sets are stored for reproducibility, along with the transformation pipelines applied during preprocessing."
   ]
  },
  {
   "cell_type": "code",
   "execution_count": 2,
   "id": "64946194",
   "metadata": {},
   "outputs": [
    {
     "name": "stdout",
     "output_type": "stream",
     "text": [
      "\u001b[32m2025-07-15 20:36:52.789\u001b[0m | \u001b[1mINFO    \u001b[0m | \u001b[36msrc.features\u001b[0m:\u001b[36mmain\u001b[0m:\u001b[36m36\u001b[0m - \u001b[1mGenerating features from dataset...\u001b[0m\n",
      "\u001b[32m2025-07-15 20:36:52.915\u001b[0m | \u001b[1mINFO    \u001b[0m | \u001b[36msrc.utils.features.splitter_strategy\u001b[0m:\u001b[36msplit\u001b[0m:\u001b[36m16\u001b[0m - \u001b[1mSplitting dataset into training and testing sets...\u001b[0m\n",
      "\u001b[32m2025-07-15 20:36:52.988\u001b[0m | \u001b[1mINFO    \u001b[0m | \u001b[36msrc.utils.features.generator_strategy\u001b[0m:\u001b[36mgenerate\u001b[0m:\u001b[36m18\u001b[0m - \u001b[1mGenerating Timeseries from dataset...\u001b[0m\n",
      "\u001b[32m2025-07-15 20:36:53.324\u001b[0m | \u001b[32m\u001b[1mSUCCESS \u001b[0m | \u001b[36msrc.features\u001b[0m:\u001b[36mmain\u001b[0m:\u001b[36m51\u001b[0m - \u001b[32m\u001b[1mSaving train features in C:\\Repositories\\time-series-prediction-rnn\\data\\processed...\u001b[0m\n",
      "\u001b[32m2025-07-15 20:36:53.641\u001b[0m | \u001b[32m\u001b[1mSUCCESS \u001b[0m | \u001b[36msrc.features\u001b[0m:\u001b[36mmain\u001b[0m:\u001b[36m55\u001b[0m - \u001b[32m\u001b[1mSaving test features in C:\\Repositories\\time-series-prediction-rnn\\data\\processed...\u001b[0m\n",
      "\u001b[32m2025-07-15 20:36:53.649\u001b[0m | \u001b[32m\u001b[1mSUCCESS \u001b[0m | \u001b[36msrc.features\u001b[0m:\u001b[36mmain\u001b[0m:\u001b[36m59\u001b[0m - \u001b[32m\u001b[1mFeatures generation complete.\u001b[0m\n",
      "\u001b[32m2025-07-15 20:36:53.649\u001b[0m | \u001b[1mINFO    \u001b[0m | \u001b[36msrc.features\u001b[0m:\u001b[36mmain\u001b[0m:\u001b[36m61\u001b[0m - \u001b[1mSaving transformers...\u001b[0m\n",
      "\u001b[32m2025-07-15 20:36:53.651\u001b[0m | \u001b[1mINFO    \u001b[0m | \u001b[36msrc.utils.features.splitter_strategy\u001b[0m:\u001b[36msplit\u001b[0m:\u001b[36m16\u001b[0m - \u001b[1mSplitting dataset into training and testing sets...\u001b[0m\n",
      "\u001b[32m2025-07-15 20:36:53.657\u001b[0m | \u001b[1mINFO    \u001b[0m | \u001b[36msrc.features\u001b[0m:\u001b[36mmain\u001b[0m:\u001b[36m77\u001b[0m - \u001b[1mTotal time taken: 0.87 seconds\u001b[0m\n"
     ]
    }
   ],
   "source": [
    "from src import config\n",
    "from src import features\n",
    "\n",
    "features.main(\n",
    "    # ---- REPLACE DEFAULT PATHS AS APPROPRIATE ----\n",
    "    dataset_path = config.PROCESSED_DATA_DIR / \"dataset.csv\",\n",
    "    train_dir = config.PROCESSED_DATA_DIR,\n",
    "    test_dir = config.PROCESSED_DATA_DIR,\n",
    "    targets = [\"^BVSP\"],\n",
    "    train_size_ratio = 0.95,\n",
    "    batch_size = 1,\n",
    "    sequence_length = 32\n",
    "    # -----------------------------------------\n",
    ")"
   ]
  },
  {
   "cell_type": "markdown",
   "id": "2a66434c",
   "metadata": {},
   "source": [
    "## Modeling\n",
    "\n",
    "The modeling process begins with loading the training dataset. Next, the base model is constructed, and both the compilation and training strategies are defined. With the pipeline structure in place, the model is trained over 100 epochs using an iterative approach to adjust the weights.\n",
    "\n",
    "During training, key metrics are monitored, including accuracy, loss (error), validation accuracy and loss (on unseen data), as well as the learning rate."
   ]
  },
  {
   "cell_type": "code",
   "execution_count": 3,
   "id": "6ff11608",
   "metadata": {},
   "outputs": [
    {
     "name": "stdout",
     "output_type": "stream",
     "text": [
      "\u001b[32m2025-07-15 21:34:06.108\u001b[0m | \u001b[1mINFO    \u001b[0m | \u001b[36msrc.modeling.train\u001b[0m:\u001b[36mmain\u001b[0m:\u001b[36m46\u001b[0m - \u001b[1mLoading training dataset...\u001b[0m\n",
      "\u001b[32m2025-07-15 21:34:06.192\u001b[0m | \u001b[1mINFO    \u001b[0m | \u001b[36msrc.modeling.train\u001b[0m:\u001b[36mmain\u001b[0m:\u001b[36m53\u001b[0m - \u001b[1mInput shape: (32, 145), Output shape: (5,)\u001b[0m\n",
      "\u001b[32m2025-07-15 21:34:06.192\u001b[0m | \u001b[1mINFO    \u001b[0m | \u001b[36msrc.modeling.train\u001b[0m:\u001b[36mmain\u001b[0m:\u001b[36m55\u001b[0m - \u001b[1mSelecting builder strategy...\u001b[0m\n",
      "\u001b[32m2025-07-15 21:34:06.192\u001b[0m | \u001b[1mINFO    \u001b[0m | \u001b[36msrc.modeling.train\u001b[0m:\u001b[36mmain\u001b[0m:\u001b[36m60\u001b[0m - \u001b[1mBuilding new model...\u001b[0m\n",
      "\u001b[32m2025-07-15 21:34:06.192\u001b[0m | \u001b[1mINFO    \u001b[0m | \u001b[36msrc.modeling.train\u001b[0m:\u001b[36mmain\u001b[0m:\u001b[36m66\u001b[0m - \u001b[1mSelecting compile strategy...\u001b[0m\n",
      "\u001b[32m2025-07-15 21:34:06.193\u001b[0m | \u001b[1mINFO    \u001b[0m | \u001b[36msrc.modeling.train\u001b[0m:\u001b[36mmain\u001b[0m:\u001b[36m69\u001b[0m - \u001b[1mSelecting training strategy...\u001b[0m\n",
      "\u001b[32m2025-07-15 21:34:06.193\u001b[0m | \u001b[1mINFO    \u001b[0m | \u001b[36msrc.modeling.train\u001b[0m:\u001b[36mmain\u001b[0m:\u001b[36m77\u001b[0m - \u001b[1mBuilding model training pipeline template...\u001b[0m\n",
      "\u001b[32m2025-07-15 21:34:06.193\u001b[0m | \u001b[1mINFO    \u001b[0m | \u001b[36msrc.modeling.train\u001b[0m:\u001b[36mmain\u001b[0m:\u001b[36m84\u001b[0m - \u001b[1mTraining model...\u001b[0m\n",
      "Epoch 1/256\n",
      "\u001b[1m142/142\u001b[0m \u001b[32m━━━━━━━━━━━━━━━━━━━━\u001b[0m\u001b[37m\u001b[0m \u001b[1m24s\u001b[0m 86ms/step - loss: 0.4784 - mae: 0.7890 - mse: 8.1828 - r2_score: -0.0712 - rmse: 1.2161 - smape: 175.9192 - val_loss: 0.2415 - val_mae: 0.4975 - val_mse: 0.4627 - val_r2_score: -0.0245 - val_rmse: 0.6627 - val_smape: 188.3975 - learning_rate: 0.0010\n",
      "Epoch 2/256\n",
      "\u001b[1m142/142\u001b[0m \u001b[32m━━━━━━━━━━━━━━━━━━━━\u001b[0m\u001b[37m\u001b[0m \u001b[1m11s\u001b[0m 77ms/step - loss: 0.4664 - mae: 0.7828 - mse: 8.1657 - r2_score: -0.0514 - rmse: 1.2072 - smape: 184.5672 - val_loss: 0.2380 - val_mae: 0.4996 - val_mse: 0.4675 - val_r2_score: -0.0334 - val_rmse: 0.6659 - val_smape: 184.3888 - learning_rate: 0.0010\n",
      "Epoch 3/256\n",
      "\u001b[1m142/142\u001b[0m \u001b[32m━━━━━━━━━━━━━━━━━━━━\u001b[0m\u001b[37m\u001b[0m \u001b[1m9s\u001b[0m 64ms/step - loss: 0.4618 - mae: 0.7829 - mse: 8.1582 - r2_score: -0.0518 - rmse: 1.2075 - smape: 185.4499 - val_loss: 0.2336 - val_mae: 0.4990 - val_mse: 0.4648 - val_r2_score: -0.0294 - val_rmse: 0.6643 - val_smape: 184.2799 - learning_rate: 0.0010\n",
      "Epoch 4/256\n",
      "\u001b[1m142/142\u001b[0m \u001b[32m━━━━━━━━━━━━━━━━━━━━\u001b[0m\u001b[37m\u001b[0m \u001b[1m8s\u001b[0m 58ms/step - loss: 0.4584 - mae: 0.7829 - mse: 8.1635 - r2_score: -0.0510 - rmse: 1.2074 - smape: 186.1634 - val_loss: 0.2300 - val_mae: 0.4973 - val_mse: 0.4627 - val_r2_score: -0.0241 - val_rmse: 0.6626 - val_smape: 179.4450 - learning_rate: 0.0010\n",
      "Epoch 5/256\n",
      "\u001b[1m142/142\u001b[0m \u001b[32m━━━━━━━━━━━━━━━━━━━━\u001b[0m\u001b[37m\u001b[0m \u001b[1m11s\u001b[0m 77ms/step - loss: 0.4557 - mae: 0.7828 - mse: 8.1667 - r2_score: -0.0506 - rmse: 1.2074 - smape: 182.6964 - val_loss: 0.2284 - val_mae: 0.4988 - val_mse: 0.4642 - val_r2_score: -0.0279 - val_rmse: 0.6638 - val_smape: 182.3807 - learning_rate: 0.0010\n",
      "Epoch 6/256\n",
      "\u001b[1m142/142\u001b[0m \u001b[32m━━━━━━━━━━━━━━━━━━━━\u001b[0m\u001b[37m\u001b[0m \u001b[1m9s\u001b[0m 64ms/step - loss: 0.4536 - mae: 0.7829 - mse: 8.1642 - r2_score: -0.0507 - rmse: 1.2073 - smape: 186.0241 - val_loss: 0.2263 - val_mae: 0.4988 - val_mse: 0.4642 - val_r2_score: -0.0278 - val_rmse: 0.6638 - val_smape: 181.5720 - learning_rate: 0.0010\n",
      "Epoch 7/256\n",
      "\u001b[1m142/142\u001b[0m \u001b[32m━━━━━━━━━━━━━━━━━━━━\u001b[0m\u001b[37m\u001b[0m \u001b[1m11s\u001b[0m 70ms/step - loss: 0.4514 - mae: 0.7827 - mse: 8.1633 - r2_score: -0.0498 - rmse: 1.2069 - smape: 185.8016 - val_loss: 0.2246 - val_mae: 0.4988 - val_mse: 0.4642 - val_r2_score: -0.0279 - val_rmse: 0.6638 - val_smape: 180.9593 - learning_rate: 0.0010\n",
      "Epoch 8/256\n",
      "\u001b[1m142/142\u001b[0m \u001b[32m━━━━━━━━━━━━━━━━━━━━\u001b[0m\u001b[37m\u001b[0m \u001b[1m13s\u001b[0m 88ms/step - loss: 0.4499 - mae: 0.7829 - mse: 8.1637 - r2_score: -0.0500 - rmse: 1.2070 - smape: 185.2205 - val_loss: 0.2232 - val_mae: 0.4986 - val_mse: 0.4639 - val_r2_score: -0.0272 - val_rmse: 0.6636 - val_smape: 181.0436 - learning_rate: 0.0010\n",
      "Epoch 9/256\n",
      "\u001b[1m142/142\u001b[0m \u001b[32m━━━━━━━━━━━━━━━━━━━━\u001b[0m\u001b[37m\u001b[0m \u001b[1m17s\u001b[0m 60ms/step - loss: 0.4488 - mae: 0.7831 - mse: 8.1635 - r2_score: -0.0504 - rmse: 1.2072 - smape: 185.6718 - val_loss: 0.2220 - val_mae: 0.4987 - val_mse: 0.4641 - val_r2_score: -0.0274 - val_rmse: 0.6637 - val_smape: 180.6985 - learning_rate: 0.0010\n",
      "Epoch 10/256\n",
      "\u001b[1m142/142\u001b[0m \u001b[32m━━━━━━━━━━━━━━━━━━━━\u001b[0m\u001b[37m\u001b[0m \u001b[1m10s\u001b[0m 70ms/step - loss: 0.4475 - mae: 0.7829 - mse: 8.1639 - r2_score: -0.0499 - rmse: 1.2071 - smape: 185.3030 - val_loss: 0.2204 - val_mae: 0.4977 - val_mse: 0.4623 - val_r2_score: -0.0239 - val_rmse: 0.6625 - val_smape: 180.7897 - learning_rate: 0.0010\n",
      "Epoch 11/256\n",
      "\u001b[1m142/142\u001b[0m \u001b[32m━━━━━━━━━━━━━━━━━━━━\u001b[0m\u001b[37m\u001b[0m \u001b[1m7s\u001b[0m 49ms/step - loss: 0.4466 - mae: 0.7832 - mse: 8.1643 - r2_score: -0.0507 - rmse: 1.2073 - smape: 184.2410 - val_loss: 0.2203 - val_mae: 0.4991 - val_mse: 0.4645 - val_r2_score: -0.0286 - val_rmse: 0.6640 - val_smape: 180.3441 - learning_rate: 0.0010\n",
      "Epoch 12/256\n",
      "\u001b[1m142/142\u001b[0m \u001b[32m━━━━━━━━━━━━━━━━━━━━\u001b[0m\u001b[37m\u001b[0m \u001b[1m7s\u001b[0m 48ms/step - loss: 0.4457 - mae: 0.7830 - mse: 8.1636 - r2_score: -0.0504 - rmse: 1.2071 - smape: 184.4965 - val_loss: 0.2187 - val_mae: 0.4975 - val_mse: 0.4624 - val_r2_score: -0.0240 - val_rmse: 0.6625 - val_smape: 180.1716 - learning_rate: 0.0010\n",
      "Epoch 13/256\n",
      "\u001b[1m142/142\u001b[0m \u001b[32m━━━━━━━━━━━━━━━━━━━━\u001b[0m\u001b[37m\u001b[0m \u001b[1m11s\u001b[0m 52ms/step - loss: 0.4450 - mae: 0.7833 - mse: 8.1643 - r2_score: -0.0504 - rmse: 1.2073 - smape: 184.2748 - val_loss: 0.2186 - val_mae: 0.4989 - val_mse: 0.4642 - val_r2_score: -0.0279 - val_rmse: 0.6638 - val_smape: 180.8112 - learning_rate: 0.0010\n",
      "Epoch 14/256\n",
      "\u001b[1m142/142\u001b[0m \u001b[32m━━━━━━━━━━━━━━━━━━━━\u001b[0m\u001b[37m\u001b[0m \u001b[1m7s\u001b[0m 48ms/step - loss: 0.4441 - mae: 0.7829 - mse: 8.1638 - r2_score: -0.0499 - rmse: 1.2070 - smape: 185.3111 - val_loss: 0.2166 - val_mae: 0.4964 - val_mse: 0.4609 - val_r2_score: -0.0200 - val_rmse: 0.6613 - val_smape: 176.3440 - learning_rate: 0.0010\n",
      "Epoch 15/256\n",
      "\u001b[1m142/142\u001b[0m \u001b[32m━━━━━━━━━━━━━━━━━━━━\u001b[0m\u001b[37m\u001b[0m \u001b[1m12s\u001b[0m 58ms/step - loss: 0.4433 - mae: 0.7825 - mse: 8.1634 - r2_score: -0.0503 - rmse: 1.2070 - smape: 183.3680 - val_loss: 0.2142 - val_mae: 0.4945 - val_mse: 0.4544 - val_r2_score: -0.0059 - val_rmse: 0.6567 - val_smape: 169.5029 - learning_rate: 0.0010\n",
      "Epoch 16/256\n",
      "\u001b[1m142/142\u001b[0m \u001b[32m━━━━━━━━━━━━━━━━━━━━\u001b[0m\u001b[37m\u001b[0m \u001b[1m9s\u001b[0m 47ms/step - loss: 0.4437 - mae: 0.7832 - mse: 8.1648 - r2_score: -0.0504 - rmse: 1.2073 - smape: 182.4835 - val_loss: 0.2148 - val_mae: 0.4948 - val_mse: 0.4567 - val_r2_score: -0.0124 - val_rmse: 0.6585 - val_smape: 171.2375 - learning_rate: 0.0010\n",
      "Epoch 17/256\n",
      "\u001b[1m142/142\u001b[0m \u001b[32m━━━━━━━━━━━━━━━━━━━━\u001b[0m\u001b[37m\u001b[0m \u001b[1m10s\u001b[0m 42ms/step - loss: 0.4426 - mae: 0.7814 - mse: 8.1624 - r2_score: -0.0481 - rmse: 1.2062 - smape: 180.3329 - val_loss: 0.2186 - val_mae: 0.5004 - val_mse: 0.4663 - val_r2_score: -0.0334 - val_rmse: 0.6654 - val_smape: 179.9542 - learning_rate: 0.0010\n",
      "Epoch 18/256\n",
      "\u001b[1m142/142\u001b[0m \u001b[32m━━━━━━━━━━━━━━━━━━━━\u001b[0m\u001b[37m\u001b[0m \u001b[1m6s\u001b[0m 44ms/step - loss: 0.4424 - mae: 0.7815 - mse: 8.1638 - r2_score: -0.0468 - rmse: 1.2057 - smape: 182.5103 - val_loss: 0.2204 - val_mae: 0.5012 - val_mse: 0.4665 - val_r2_score: -0.0356 - val_rmse: 0.6659 - val_smape: 177.9703 - learning_rate: 0.0010\n",
      "Epoch 19/256\n",
      "\u001b[1m142/142\u001b[0m \u001b[32m━━━━━━━━━━━━━━━━━━━━\u001b[0m\u001b[37m\u001b[0m \u001b[1m7s\u001b[0m 47ms/step - loss: 0.4435 - mae: 0.7811 - mse: 8.1600 - r2_score: -0.0469 - rmse: 1.2054 - smape: 180.1661 - val_loss: 0.2203 - val_mae: 0.5024 - val_mse: 0.4649 - val_r2_score: -0.0399 - val_rmse: 0.6659 - val_smape: 176.1726 - learning_rate: 0.0010\n",
      "Epoch 20/256\n",
      "\u001b[1m142/142\u001b[0m \u001b[32m━━━━━━━━━━━━━━━━━━━━\u001b[0m\u001b[37m\u001b[0m \u001b[1m7s\u001b[0m 49ms/step - loss: 0.4424 - mae: 0.7798 - mse: 8.1561 - r2_score: -0.0431 - rmse: 1.2038 - smape: 178.1577 - val_loss: 0.2190 - val_mae: 0.5024 - val_mse: 0.4608 - val_r2_score: -0.0339 - val_rmse: 0.6634 - val_smape: 174.4208 - learning_rate: 0.0010\n",
      "Epoch 21/256\n",
      "\u001b[1m142/142\u001b[0m \u001b[32m━━━━━━━━━━━━━━━━━━━━\u001b[0m\u001b[37m\u001b[0m \u001b[1m6s\u001b[0m 45ms/step - loss: 0.4409 - mae: 0.7775 - mse: 8.1494 - r2_score: -0.0397 - rmse: 1.2016 - smape: 173.6942 - val_loss: 0.2172 - val_mae: 0.5029 - val_mse: 0.4522 - val_r2_score: -0.0182 - val_rmse: 0.6574 - val_smape: 167.5917 - learning_rate: 0.0010\n",
      "Epoch 22/256\n",
      "\u001b[1m142/142\u001b[0m \u001b[32m━━━━━━━━━━━━━━━━━━━━\u001b[0m\u001b[37m\u001b[0m \u001b[1m7s\u001b[0m 51ms/step - loss: 0.4389 - mae: 0.7732 - mse: 8.1410 - r2_score: -0.0300 - rmse: 1.1974 - smape: 170.5934 - val_loss: 0.2166 - val_mae: 0.5027 - val_mse: 0.4410 - val_r2_score: -0.0150 - val_rmse: 0.6522 - val_smape: 163.9868 - learning_rate: 0.0010\n",
      "Epoch 23/256\n",
      "\u001b[1m142/142\u001b[0m \u001b[32m━━━━━━━━━━━━━━━━━━━━\u001b[0m\u001b[37m\u001b[0m \u001b[1m8s\u001b[0m 53ms/step - loss: 0.4356 - mae: 0.7675 - mse: 8.1346 - r2_score: -0.0173 - rmse: 1.1928 - smape: 161.3268 - val_loss: 0.2210 - val_mae: 0.5115 - val_mse: 0.4457 - val_r2_score: -0.0192 - val_rmse: 0.6545 - val_smape: 155.2164 - learning_rate: 0.0010\n",
      "Epoch 24/256\n",
      "\u001b[1m142/142\u001b[0m \u001b[32m━━━━━━━━━━━━━━━━━━━━\u001b[0m\u001b[37m\u001b[0m \u001b[1m10s\u001b[0m 72ms/step - loss: 0.4318 - mae: 0.7612 - mse: 8.1152 - r2_score: -0.0045 - rmse: 1.1857 - smape: 157.0159 - val_loss: 0.2197 - val_mae: 0.5038 - val_mse: 0.4432 - val_r2_score: -0.0143 - val_rmse: 0.6532 - val_smape: 161.4898 - learning_rate: 0.0010\n",
      "Epoch 25/256\n",
      "\u001b[1m142/142\u001b[0m \u001b[32m━━━━━━━━━━━━━━━━━━━━\u001b[0m\u001b[37m\u001b[0m \u001b[1m9s\u001b[0m 60ms/step - loss: 0.4321 - mae: 0.7593 - mse: 8.1194 - r2_score: -0.0065 - rmse: 1.1866 - smape: 155.8516 - val_loss: 0.2242 - val_mae: 0.5118 - val_mse: 0.4517 - val_r2_score: -0.0532 - val_rmse: 0.6609 - val_smape: 153.4367 - learning_rate: 0.0010\n",
      "Epoch 26/256\n",
      "\u001b[1m142/142\u001b[0m \u001b[32m━━━━━━━━━━━━━━━━━━━━\u001b[0m\u001b[37m\u001b[0m \u001b[1m7s\u001b[0m 49ms/step - loss: 0.4287 - mae: 0.7568 - mse: 8.1039 - r2_score: 0.0027 - rmse: 1.1811 - smape: 153.2823 - val_loss: 0.2229 - val_mae: 0.5087 - val_mse: 0.4468 - val_r2_score: -0.0366 - val_rmse: 0.6575 - val_smape: 157.3837 - learning_rate: 0.0010\n",
      "Epoch 27/256\n",
      "\u001b[1m142/142\u001b[0m \u001b[32m━━━━━━━━━━━━━━━━━━━━\u001b[0m\u001b[37m\u001b[0m \u001b[1m10s\u001b[0m 69ms/step - loss: 0.4258 - mae: 0.7518 - mse: 8.0951 - r2_score: 0.0161 - rmse: 1.1758 - smape: 150.9984 - val_loss: 0.2259 - val_mae: 0.5161 - val_mse: 0.4548 - val_r2_score: -0.0549 - val_rmse: 0.6631 - val_smape: 159.1827 - learning_rate: 0.0010\n",
      "Epoch 28/256\n",
      "\u001b[1m142/142\u001b[0m \u001b[32m━━━━━━━━━━━━━━━━━━━━\u001b[0m\u001b[37m\u001b[0m \u001b[1m9s\u001b[0m 64ms/step - loss: 0.4220 - mae: 0.7476 - mse: 8.0812 - r2_score: 0.0233 - rmse: 1.1707 - smape: 149.5621 - val_loss: 0.2252 - val_mae: 0.5106 - val_mse: 0.4512 - val_r2_score: -0.0523 - val_rmse: 0.6605 - val_smape: 153.8356 - learning_rate: 0.0010\n",
      "Epoch 29/256\n",
      "\u001b[1m142/142\u001b[0m \u001b[32m━━━━━━━━━━━━━━━━━━━━\u001b[0m\u001b[37m\u001b[0m \u001b[1m9s\u001b[0m 64ms/step - loss: 0.4205 - mae: 0.7450 - mse: 8.0679 - r2_score: 0.0347 - rmse: 1.1647 - smape: 148.6055 - val_loss: 0.2244 - val_mae: 0.5092 - val_mse: 0.4460 - val_r2_score: -0.0314 - val_rmse: 0.6560 - val_smape: 153.0482 - learning_rate: 0.0010\n",
      "Epoch 30/256\n",
      "\u001b[1m142/142\u001b[0m \u001b[32m━━━━━━━━━━━━━━━━━━━━\u001b[0m\u001b[37m\u001b[0m \u001b[1m10s\u001b[0m 69ms/step - loss: 0.4138 - mae: 0.7358 - mse: 8.0494 - r2_score: 0.0482 - rmse: 1.1563 - smape: 148.3349 - val_loss: 0.2276 - val_mae: 0.5179 - val_mse: 0.4491 - val_r2_score: -0.0489 - val_rmse: 0.6601 - val_smape: 161.9744 - learning_rate: 0.0010\n",
      "Epoch 31/256\n",
      "\u001b[1m142/142\u001b[0m \u001b[32m━━━━━━━━━━━━━━━━━━━━\u001b[0m\u001b[37m\u001b[0m \u001b[1m12s\u001b[0m 81ms/step - loss: 0.4131 - mae: 0.7341 - mse: 8.0453 - r2_score: 0.0632 - rmse: 1.1521 - smape: 147.1794 - val_loss: 0.2303 - val_mae: 0.5182 - val_mse: 0.4576 - val_r2_score: -0.0544 - val_rmse: 0.6647 - val_smape: 167.2682 - learning_rate: 0.0010\n",
      "Epoch 32/256\n",
      "\u001b[1m142/142\u001b[0m \u001b[32m━━━━━━━━━━━━━━━━━━━━\u001b[0m\u001b[37m\u001b[0m \u001b[1m20s\u001b[0m 79ms/step - loss: 0.4095 - mae: 0.7268 - mse: 8.0341 - r2_score: 0.0736 - rmse: 1.1464 - smape: 146.5979 - val_loss: 0.2407 - val_mae: 0.5387 - val_mse: 0.4791 - val_r2_score: -0.1435 - val_rmse: 0.6845 - val_smape: 161.7870 - learning_rate: 5.0000e-04\n",
      "Epoch 33/256\n",
      "\u001b[1m142/142\u001b[0m \u001b[32m━━━━━━━━━━━━━━━━━━━━\u001b[0m\u001b[37m\u001b[0m \u001b[1m18s\u001b[0m 59ms/step - loss: 0.4025 - mae: 0.7210 - mse: 8.0136 - r2_score: 0.0940 - rmse: 1.1361 - smape: 145.1448 - val_loss: 0.2349 - val_mae: 0.5311 - val_mse: 0.4663 - val_r2_score: -0.0925 - val_rmse: 0.6732 - val_smape: 160.3853 - learning_rate: 5.0000e-04\n",
      "Epoch 34/256\n",
      "\u001b[1m142/142\u001b[0m \u001b[32m━━━━━━━━━━━━━━━━━━━━\u001b[0m\u001b[37m\u001b[0m \u001b[1m9s\u001b[0m 61ms/step - loss: 0.3962 - mae: 0.7127 - mse: 7.9970 - r2_score: 0.1042 - rmse: 1.1289 - smape: 142.5623 - val_loss: 0.2322 - val_mae: 0.5250 - val_mse: 0.4601 - val_r2_score: -0.0731 - val_rmse: 0.6677 - val_smape: 162.7130 - learning_rate: 5.0000e-04\n",
      "Epoch 35/256\n",
      "\u001b[1m142/142\u001b[0m \u001b[32m━━━━━━━━━━━━━━━━━━━━\u001b[0m\u001b[37m\u001b[0m \u001b[1m9s\u001b[0m 63ms/step - loss: 0.3947 - mae: 0.7100 - mse: 7.9957 - r2_score: 0.1097 - rmse: 1.1268 - smape: 142.7936 - val_loss: 0.2331 - val_mae: 0.5266 - val_mse: 0.4593 - val_r2_score: -0.0917 - val_rmse: 0.6694 - val_smape: 156.8429 - learning_rate: 5.0000e-04\n",
      "Epoch 36/256\n",
      "\u001b[1m142/142\u001b[0m \u001b[32m━━━━━━━━━━━━━━━━━━━━\u001b[0m\u001b[37m\u001b[0m \u001b[1m12s\u001b[0m 74ms/step - loss: 0.3881 - mae: 0.7039 - mse: 7.9700 - r2_score: 0.1268 - rmse: 1.1157 - smape: 140.4370 - val_loss: 0.2394 - val_mae: 0.5388 - val_mse: 0.4747 - val_r2_score: -0.1470 - val_rmse: 0.6823 - val_smape: 163.2917 - learning_rate: 5.0000e-04\n",
      "Epoch 37/256\n",
      "\u001b[1m142/142\u001b[0m \u001b[32m━━━━━━━━━━━━━━━━━━━━\u001b[0m\u001b[37m\u001b[0m \u001b[1m20s\u001b[0m 69ms/step - loss: 0.3882 - mae: 0.7029 - mse: 7.9740 - r2_score: 0.1277 - rmse: 1.1168 - smape: 141.2051 - val_loss: 0.2368 - val_mae: 0.5336 - val_mse: 0.4669 - val_r2_score: -0.1344 - val_rmse: 0.6770 - val_smape: 156.2368 - learning_rate: 5.0000e-04\n",
      "Epoch 38/256\n",
      "\u001b[1m142/142\u001b[0m \u001b[32m━━━━━━━━━━━━━━━━━━━━\u001b[0m\u001b[37m\u001b[0m \u001b[1m9s\u001b[0m 63ms/step - loss: 0.3856 - mae: 0.6988 - mse: 7.9684 - r2_score: 0.1322 - rmse: 1.1138 - smape: 140.7632 - val_loss: 0.2385 - val_mae: 0.5376 - val_mse: 0.4656 - val_r2_score: -0.1065 - val_rmse: 0.6736 - val_smape: 151.6987 - learning_rate: 5.0000e-04\n",
      "Epoch 39/256\n",
      "\u001b[1m142/142\u001b[0m \u001b[32m━━━━━━━━━━━━━━━━━━━━\u001b[0m\u001b[37m\u001b[0m \u001b[1m10s\u001b[0m 69ms/step - loss: 0.3858 - mae: 0.6989 - mse: 7.9654 - r2_score: 0.1265 - rmse: 1.1150 - smape: 139.8151 - val_loss: 0.2418 - val_mae: 0.5392 - val_mse: 0.4785 - val_r2_score: -0.1513 - val_rmse: 0.6847 - val_smape: 153.9885 - learning_rate: 5.0000e-04\n",
      "Epoch 40/256\n",
      "\u001b[1m142/142\u001b[0m \u001b[32m━━━━━━━━━━━━━━━━━━━━\u001b[0m\u001b[37m\u001b[0m \u001b[1m9s\u001b[0m 62ms/step - loss: 0.3794 - mae: 0.6935 - mse: 7.9403 - r2_score: 0.1501 - rmse: 1.1027 - smape: 138.5170 - val_loss: 0.2445 - val_mae: 0.5494 - val_mse: 0.4843 - val_r2_score: -0.1688 - val_rmse: 0.6893 - val_smape: 160.0921 - learning_rate: 5.0000e-04\n",
      "Epoch 41/256\n",
      "\u001b[1m142/142\u001b[0m \u001b[32m━━━━━━━━━━━━━━━━━━━━\u001b[0m\u001b[37m\u001b[0m \u001b[1m7s\u001b[0m 51ms/step - loss: 0.3786 - mae: 0.6912 - mse: 7.9400 - r2_score: 0.1405 - rmse: 1.1049 - smape: 138.2555 - val_loss: 0.2545 - val_mae: 0.5629 - val_mse: 0.5064 - val_r2_score: -0.2312 - val_rmse: 0.7056 - val_smape: 158.2500 - learning_rate: 5.0000e-04\n",
      "Epoch 42/256\n",
      "\u001b[1m142/142\u001b[0m \u001b[32m━━━━━━━━━━━━━━━━━━━━\u001b[0m\u001b[37m\u001b[0m \u001b[1m7s\u001b[0m 49ms/step - loss: 0.3783 - mae: 0.6921 - mse: 7.9411 - r2_score: 0.1491 - rmse: 1.1018 - smape: 137.1210 - val_loss: 0.2647 - val_mae: 0.5789 - val_mse: 0.5269 - val_r2_score: -0.3344 - val_rmse: 0.7231 - val_smape: 159.6678 - learning_rate: 5.0000e-04\n",
      "Epoch 43/256\n",
      "\u001b[1m142/142\u001b[0m \u001b[32m━━━━━━━━━━━━━━━━━━━━\u001b[0m\u001b[37m\u001b[0m \u001b[1m10s\u001b[0m 48ms/step - loss: 0.3748 - mae: 0.6897 - mse: 7.9302 - r2_score: 0.1556 - rmse: 1.0972 - smape: 136.6504 - val_loss: 0.2526 - val_mae: 0.5612 - val_mse: 0.5017 - val_r2_score: -0.2464 - val_rmse: 0.7043 - val_smape: 158.3681 - learning_rate: 5.0000e-04\n",
      "Epoch 44/256\n",
      "\u001b[1m142/142\u001b[0m \u001b[32m━━━━━━━━━━━━━━━━━━━━\u001b[0m\u001b[37m\u001b[0m \u001b[1m7s\u001b[0m 50ms/step - loss: 0.3752 - mae: 0.6879 - mse: 7.9319 - r2_score: 0.1596 - rmse: 1.0970 - smape: 137.0257 - val_loss: 0.2582 - val_mae: 0.5700 - val_mse: 0.5158 - val_r2_score: -0.2974 - val_rmse: 0.7150 - val_smape: 161.4000 - learning_rate: 5.0000e-04\n",
      "Epoch 45/256\n",
      "\u001b[1m142/142\u001b[0m \u001b[32m━━━━━━━━━━━━━━━━━━━━\u001b[0m\u001b[37m\u001b[0m \u001b[1m10s\u001b[0m 69ms/step - loss: 0.3715 - mae: 0.6854 - mse: 7.9231 - r2_score: 0.1627 - rmse: 1.0934 - smape: 135.6621 - val_loss: 0.2458 - val_mae: 0.5479 - val_mse: 0.4881 - val_r2_score: -0.2066 - val_rmse: 0.6940 - val_smape: 156.6273 - learning_rate: 5.0000e-04\n",
      "Epoch 46/256\n",
      "\u001b[1m142/142\u001b[0m \u001b[32m━━━━━━━━━━━━━━━━━━━━\u001b[0m\u001b[37m\u001b[0m \u001b[1m11s\u001b[0m 71ms/step - loss: 0.3687 - mae: 0.6818 - mse: 7.9179 - r2_score: 0.1721 - rmse: 1.0901 - smape: 135.8555 - val_loss: 0.2465 - val_mae: 0.5463 - val_mse: 0.4896 - val_r2_score: -0.2107 - val_rmse: 0.6952 - val_smape: 156.1458 - learning_rate: 5.0000e-04\n",
      "Epoch 47/256\n",
      "\u001b[1m142/142\u001b[0m \u001b[32m━━━━━━━━━━━━━━━━━━━━\u001b[0m\u001b[37m\u001b[0m \u001b[1m10s\u001b[0m 67ms/step - loss: 0.3669 - mae: 0.6779 - mse: 7.9097 - r2_score: 0.1792 - rmse: 1.0859 - smape: 133.8860 - val_loss: 0.2447 - val_mae: 0.5454 - val_mse: 0.4893 - val_r2_score: -0.2038 - val_rmse: 0.6942 - val_smape: 157.7341 - learning_rate: 5.0000e-04\n",
      "Epoch 48/256\n",
      "\u001b[1m142/142\u001b[0m \u001b[32m━━━━━━━━━━━━━━━━━━━━\u001b[0m\u001b[37m\u001b[0m \u001b[1m7s\u001b[0m 51ms/step - loss: 0.3683 - mae: 0.6807 - mse: 7.9211 - r2_score: 0.1767 - rmse: 1.0887 - smape: 135.2047 - val_loss: 0.2520 - val_mae: 0.5551 - val_mse: 0.5065 - val_r2_score: -0.2751 - val_rmse: 0.7083 - val_smape: 157.2841 - learning_rate: 2.5000e-04\n",
      "Epoch 49/256\n",
      "\u001b[1m142/142\u001b[0m \u001b[32m━━━━━━━━━━━━━━━━━━━━\u001b[0m\u001b[37m\u001b[0m \u001b[1m8s\u001b[0m 57ms/step - loss: 0.3679 - mae: 0.6797 - mse: 7.9139 - r2_score: 0.1711 - rmse: 1.0887 - smape: 135.0056 - val_loss: 0.2476 - val_mae: 0.5507 - val_mse: 0.4964 - val_r2_score: -0.2513 - val_rmse: 0.7012 - val_smape: 158.5056 - learning_rate: 2.5000e-04\n",
      "Epoch 50/256\n",
      "\u001b[1m142/142\u001b[0m \u001b[32m━━━━━━━━━━━━━━━━━━━━\u001b[0m\u001b[37m\u001b[0m \u001b[1m9s\u001b[0m 63ms/step - loss: 0.3644 - mae: 0.6734 - mse: 7.9030 - r2_score: 0.1849 - rmse: 1.0834 - smape: 134.3499 - val_loss: 0.2591 - val_mae: 0.5678 - val_mse: 0.5201 - val_r2_score: -0.3235 - val_rmse: 0.7187 - val_smape: 158.0853 - learning_rate: 2.5000e-04\n",
      "Epoch 51/256\n",
      "\u001b[1m142/142\u001b[0m \u001b[32m━━━━━━━━━━━━━━━━━━━━\u001b[0m\u001b[37m\u001b[0m \u001b[1m11s\u001b[0m 76ms/step - loss: 0.3662 - mae: 0.6777 - mse: 7.9064 - r2_score: 0.1836 - rmse: 1.0830 - smape: 134.4754 - val_loss: 0.2685 - val_mae: 0.5802 - val_mse: 0.5431 - val_r2_score: -0.3957 - val_rmse: 0.7351 - val_smape: 159.0855 - learning_rate: 2.5000e-04\n",
      "Epoch 52/256\n",
      "\u001b[1m142/142\u001b[0m \u001b[32m━━━━━━━━━━━━━━━━━━━━\u001b[0m\u001b[37m\u001b[0m \u001b[1m20s\u001b[0m 69ms/step - loss: 0.3630 - mae: 0.6729 - mse: 7.8980 - r2_score: 0.1873 - rmse: 1.0804 - smape: 132.3090 - val_loss: 0.2683 - val_mae: 0.5811 - val_mse: 0.5447 - val_r2_score: -0.4056 - val_rmse: 0.7365 - val_smape: 159.6349 - learning_rate: 2.5000e-04\n",
      "Epoch 53/256\n",
      "\u001b[1m142/142\u001b[0m \u001b[32m━━━━━━━━━━━━━━━━━━━━\u001b[0m\u001b[37m\u001b[0m \u001b[1m9s\u001b[0m 60ms/step - loss: 0.3605 - mae: 0.6691 - mse: 7.8930 - r2_score: 0.1915 - rmse: 1.0778 - smape: 133.8415 - val_loss: 0.2673 - val_mae: 0.5803 - val_mse: 0.5407 - val_r2_score: -0.3812 - val_rmse: 0.7331 - val_smape: 155.4713 - learning_rate: 2.5000e-04\n",
      "Epoch 54/256\n",
      "\u001b[1m142/142\u001b[0m \u001b[32m━━━━━━━━━━━━━━━━━━━━\u001b[0m\u001b[37m\u001b[0m \u001b[1m9s\u001b[0m 52ms/step - loss: 0.3592 - mae: 0.6692 - mse: 7.8849 - r2_score: 0.2001 - rmse: 1.0741 - smape: 132.4273 - val_loss: 0.2616 - val_mae: 0.5724 - val_mse: 0.5258 - val_r2_score: -0.3512 - val_rmse: 0.7233 - val_smape: 156.3543 - learning_rate: 2.5000e-04\n",
      "Epoch 55/256\n",
      "\u001b[1m142/142\u001b[0m \u001b[32m━━━━━━━━━━━━━━━━━━━━\u001b[0m\u001b[37m\u001b[0m \u001b[1m7s\u001b[0m 48ms/step - loss: 0.3639 - mae: 0.6750 - mse: 7.9063 - r2_score: 0.1825 - rmse: 1.0845 - smape: 133.3885 - val_loss: 0.2628 - val_mae: 0.5741 - val_mse: 0.5293 - val_r2_score: -0.3584 - val_rmse: 0.7256 - val_smape: 156.8774 - learning_rate: 2.5000e-04\n",
      "Epoch 56/256\n",
      "\u001b[1m142/142\u001b[0m \u001b[32m━━━━━━━━━━━━━━━━━━━━\u001b[0m\u001b[37m\u001b[0m \u001b[1m8s\u001b[0m 54ms/step - loss: 0.3584 - mae: 0.6689 - mse: 7.8884 - r2_score: 0.1963 - rmse: 1.0760 - smape: 132.0858 - val_loss: 0.2658 - val_mae: 0.5781 - val_mse: 0.5378 - val_r2_score: -0.3749 - val_rmse: 0.7312 - val_smape: 157.7078 - learning_rate: 2.5000e-04\n",
      "Epoch 57/256\n",
      "\u001b[1m142/142\u001b[0m \u001b[32m━━━━━━━━━━━━━━━━━━━━\u001b[0m\u001b[37m\u001b[0m \u001b[1m13s\u001b[0m 92ms/step - loss: 0.3568 - mae: 0.6672 - mse: 7.8800 - r2_score: 0.2033 - rmse: 1.0709 - smape: 131.7937 - val_loss: 0.2681 - val_mae: 0.5800 - val_mse: 0.5434 - val_r2_score: -0.3948 - val_rmse: 0.7353 - val_smape: 156.7634 - learning_rate: 2.5000e-04\n",
      "Epoch 58/256\n",
      "\u001b[1m142/142\u001b[0m \u001b[32m━━━━━━━━━━━━━━━━━━━━\u001b[0m\u001b[37m\u001b[0m \u001b[1m11s\u001b[0m 79ms/step - loss: 0.3578 - mae: 0.6676 - mse: 7.8835 - r2_score: 0.2014 - rmse: 1.0730 - smape: 131.6961 - val_loss: 0.2676 - val_mae: 0.5789 - val_mse: 0.5450 - val_r2_score: -0.3995 - val_rmse: 0.7364 - val_smape: 157.0882 - learning_rate: 2.5000e-04\n",
      "Epoch 59/256\n",
      "\u001b[1m142/142\u001b[0m \u001b[32m━━━━━━━━━━━━━━━━━━━━\u001b[0m\u001b[37m\u001b[0m \u001b[1m20s\u001b[0m 73ms/step - loss: 0.3538 - mae: 0.6619 - mse: 7.8742 - r2_score: 0.2050 - rmse: 1.0698 - smape: 131.4999 - val_loss: 0.2654 - val_mae: 0.5759 - val_mse: 0.5374 - val_r2_score: -0.3901 - val_rmse: 0.7316 - val_smape: 155.7736 - learning_rate: 2.5000e-04\n",
      "Epoch 60/256\n",
      "\u001b[1m142/142\u001b[0m \u001b[32m━━━━━━━━━━━━━━━━━━━━\u001b[0m\u001b[37m\u001b[0m \u001b[1m20s\u001b[0m 66ms/step - loss: 0.3525 - mae: 0.6618 - mse: 7.8666 - r2_score: 0.2098 - rmse: 1.0659 - smape: 130.4084 - val_loss: 0.2686 - val_mae: 0.5846 - val_mse: 0.5417 - val_r2_score: -0.4103 - val_rmse: 0.7349 - val_smape: 156.5634 - learning_rate: 2.5000e-04\n",
      "Epoch 61/256\n",
      "\u001b[1m142/142\u001b[0m \u001b[32m━━━━━━━━━━━━━━━━━━━━\u001b[0m\u001b[37m\u001b[0m \u001b[1m11s\u001b[0m 68ms/step - loss: 0.3517 - mae: 0.6593 - mse: 7.8712 - r2_score: 0.2050 - rmse: 1.0678 - smape: 129.7538 - val_loss: 0.2640 - val_mae: 0.5743 - val_mse: 0.5347 - val_r2_score: -0.3878 - val_rmse: 0.7299 - val_smape: 157.1886 - learning_rate: 2.5000e-04\n",
      "Epoch 62/256\n",
      "\u001b[1m142/142\u001b[0m \u001b[32m━━━━━━━━━━━━━━━━━━━━\u001b[0m\u001b[37m\u001b[0m \u001b[1m10s\u001b[0m 65ms/step - loss: 0.3542 - mae: 0.6619 - mse: 7.8744 - r2_score: 0.2055 - rmse: 1.0699 - smape: 131.4086 - val_loss: 0.2614 - val_mae: 0.5694 - val_mse: 0.5279 - val_r2_score: -0.3662 - val_rmse: 0.7251 - val_smape: 156.5871 - learning_rate: 2.5000e-04\n",
      "Epoch 63/256\n",
      "\u001b[1m142/142\u001b[0m \u001b[32m━━━━━━━━━━━━━━━━━━━━\u001b[0m\u001b[37m\u001b[0m \u001b[1m9s\u001b[0m 61ms/step - loss: 0.3511 - mae: 0.6585 - mse: 7.8717 - r2_score: 0.2125 - rmse: 1.0661 - smape: 130.0241 - val_loss: 0.2623 - val_mae: 0.5739 - val_mse: 0.5296 - val_r2_score: -0.3597 - val_rmse: 0.7258 - val_smape: 160.9103 - learning_rate: 2.5000e-04\n",
      "Epoch 64/256\n",
      "\u001b[1m142/142\u001b[0m \u001b[32m━━━━━━━━━━━━━━━━━━━━\u001b[0m\u001b[37m\u001b[0m \u001b[1m10s\u001b[0m 60ms/step - loss: 0.3512 - mae: 0.6587 - mse: 7.8655 - r2_score: 0.2089 - rmse: 1.0662 - smape: 131.2070 - val_loss: 0.2617 - val_mae: 0.5733 - val_mse: 0.5269 - val_r2_score: -0.3613 - val_rmse: 0.7242 - val_smape: 160.2810 - learning_rate: 1.2500e-04\n",
      "Epoch 65/256\n",
      "\u001b[1m142/142\u001b[0m \u001b[32m━━━━━━━━━━━━━━━━━━━━\u001b[0m\u001b[37m\u001b[0m \u001b[1m11s\u001b[0m 65ms/step - loss: 0.3523 - mae: 0.6602 - mse: 7.8733 - r2_score: 0.2103 - rmse: 1.0668 - smape: 130.6945 - val_loss: 0.2597 - val_mae: 0.5701 - val_mse: 0.5239 - val_r2_score: -0.3452 - val_rmse: 0.7217 - val_smape: 160.5328 - learning_rate: 1.2500e-04\n",
      "Epoch 66/256\n",
      "\u001b[1m142/142\u001b[0m \u001b[32m━━━━━━━━━━━━━━━━━━━━\u001b[0m\u001b[37m\u001b[0m \u001b[1m10s\u001b[0m 70ms/step - loss: 0.3500 - mae: 0.6564 - mse: 7.8646 - r2_score: 0.2133 - rmse: 1.0640 - smape: 130.6697 - val_loss: 0.2641 - val_mae: 0.5773 - val_mse: 0.5347 - val_r2_score: -0.3829 - val_rmse: 0.7297 - val_smape: 160.0757 - learning_rate: 1.2500e-04\n",
      "Epoch 67/256\n",
      "\u001b[1m142/142\u001b[0m \u001b[32m━━━━━━━━━━━━━━━━━━━━\u001b[0m\u001b[37m\u001b[0m \u001b[1m9s\u001b[0m 61ms/step - loss: 0.3511 - mae: 0.6587 - mse: 7.8692 - r2_score: 0.2168 - rmse: 1.0643 - smape: 130.3875 - val_loss: 0.2668 - val_mae: 0.5827 - val_mse: 0.5415 - val_r2_score: -0.4073 - val_rmse: 0.7346 - val_smape: 161.8658 - learning_rate: 1.2500e-04\n",
      "Epoch 68/256\n",
      "\u001b[1m142/142\u001b[0m \u001b[32m━━━━━━━━━━━━━━━━━━━━\u001b[0m\u001b[37m\u001b[0m \u001b[1m9s\u001b[0m 60ms/step - loss: 0.3485 - mae: 0.6547 - mse: 7.8595 - r2_score: 0.2250 - rmse: 1.0588 - smape: 129.1911 - val_loss: 0.2682 - val_mae: 0.5837 - val_mse: 0.5442 - val_r2_score: -0.4192 - val_rmse: 0.7366 - val_smape: 160.0104 - learning_rate: 1.2500e-04\n",
      "Epoch 69/256\n",
      "\u001b[1m142/142\u001b[0m \u001b[32m━━━━━━━━━━━━━━━━━━━━\u001b[0m\u001b[37m\u001b[0m \u001b[1m9s\u001b[0m 61ms/step - loss: 0.3504 - mae: 0.6586 - mse: 7.8643 - r2_score: 0.2121 - rmse: 1.0650 - smape: 130.0880 - val_loss: 0.2732 - val_mae: 0.5892 - val_mse: 0.5562 - val_r2_score: -0.4663 - val_rmse: 0.7451 - val_smape: 158.2060 - learning_rate: 1.2500e-04\n",
      "Epoch 70/256\n",
      "\u001b[1m142/142\u001b[0m \u001b[32m━━━━━━━━━━━━━━━━━━━━\u001b[0m\u001b[37m\u001b[0m \u001b[1m9s\u001b[0m 61ms/step - loss: 0.3470 - mae: 0.6543 - mse: 7.8503 - r2_score: 0.2238 - rmse: 1.0584 - smape: 128.6269 - val_loss: 0.2689 - val_mae: 0.5835 - val_mse: 0.5448 - val_r2_score: -0.4274 - val_rmse: 0.7372 - val_smape: 159.3462 - learning_rate: 1.2500e-04\n",
      "Epoch 71/256\n",
      "\u001b[1m142/142\u001b[0m \u001b[32m━━━━━━━━━━━━━━━━━━━━\u001b[0m\u001b[37m\u001b[0m \u001b[1m12s\u001b[0m 72ms/step - loss: 0.3495 - mae: 0.6575 - mse: 7.8599 - r2_score: 0.2138 - rmse: 1.0637 - smape: 130.2410 - val_loss: 0.2739 - val_mae: 0.5901 - val_mse: 0.5568 - val_r2_score: -0.4668 - val_rmse: 0.7454 - val_smape: 158.4440 - learning_rate: 1.2500e-04\n",
      "Epoch 72/256\n",
      "\u001b[1m142/142\u001b[0m \u001b[32m━━━━━━━━━━━━━━━━━━━━\u001b[0m\u001b[37m\u001b[0m \u001b[1m8s\u001b[0m 55ms/step - loss: 0.3491 - mae: 0.6569 - mse: 7.8594 - r2_score: 0.2202 - rmse: 1.0607 - smape: 129.0075 - val_loss: 0.2606 - val_mae: 0.5701 - val_mse: 0.5269 - val_r2_score: -0.3604 - val_rmse: 0.7242 - val_smape: 159.2973 - learning_rate: 1.2500e-04\n",
      "Epoch 73/256\n",
      "\u001b[1m142/142\u001b[0m \u001b[32m━━━━━━━━━━━━━━━━━━━━\u001b[0m\u001b[37m\u001b[0m \u001b[1m7s\u001b[0m 51ms/step - loss: 0.3476 - mae: 0.6562 - mse: 7.8614 - r2_score: 0.2225 - rmse: 1.0613 - smape: 129.5838 - val_loss: 0.2704 - val_mae: 0.5841 - val_mse: 0.5497 - val_r2_score: -0.4299 - val_rmse: 0.7402 - val_smape: 157.4457 - learning_rate: 1.2500e-04\n",
      "Epoch 74/256\n",
      "\u001b[1m142/142\u001b[0m \u001b[32m━━━━━━━━━━━━━━━━━━━━\u001b[0m\u001b[37m\u001b[0m \u001b[1m9s\u001b[0m 61ms/step - loss: 0.3482 - mae: 0.6550 - mse: 7.8555 - r2_score: 0.2199 - rmse: 1.0606 - smape: 129.2516 - val_loss: 0.2673 - val_mae: 0.5795 - val_mse: 0.5427 - val_r2_score: -0.4090 - val_rmse: 0.7353 - val_smape: 157.9286 - learning_rate: 1.2500e-04\n",
      "Epoch 75/256\n",
      "\u001b[1m142/142\u001b[0m \u001b[32m━━━━━━━━━━━━━━━━━━━━\u001b[0m\u001b[37m\u001b[0m \u001b[1m9s\u001b[0m 67ms/step - loss: 0.3469 - mae: 0.6542 - mse: 7.8543 - r2_score: 0.2250 - rmse: 1.0582 - smape: 128.7769 - val_loss: 0.2727 - val_mae: 0.5875 - val_mse: 0.5561 - val_r2_score: -0.4518 - val_rmse: 0.7446 - val_smape: 157.9930 - learning_rate: 1.2500e-04\n",
      "Epoch 76/256\n",
      "\u001b[1m142/142\u001b[0m \u001b[32m━━━━━━━━━━━━━━━━━━━━\u001b[0m\u001b[37m\u001b[0m \u001b[1m8s\u001b[0m 59ms/step - loss: 0.3493 - mae: 0.6574 - mse: 7.8608 - r2_score: 0.2179 - rmse: 1.0623 - smape: 129.1837 - val_loss: 0.2701 - val_mae: 0.5861 - val_mse: 0.5484 - val_r2_score: -0.4290 - val_rmse: 0.7391 - val_smape: 158.4740 - learning_rate: 1.2500e-04\n",
      "Epoch 77/256\n",
      "\u001b[1m142/142\u001b[0m \u001b[32m━━━━━━━━━━━━━━━━━━━━\u001b[0m\u001b[37m\u001b[0m \u001b[1m8s\u001b[0m 55ms/step - loss: 0.3466 - mae: 0.6538 - mse: 7.8545 - r2_score: 0.2212 - rmse: 1.0597 - smape: 129.4710 - val_loss: 0.2702 - val_mae: 0.5868 - val_mse: 0.5488 - val_r2_score: -0.4339 - val_rmse: 0.7397 - val_smape: 158.7556 - learning_rate: 1.2500e-04\n",
      "Epoch 78/256\n",
      "\u001b[1m142/142\u001b[0m \u001b[32m━━━━━━━━━━━━━━━━━━━━\u001b[0m\u001b[37m\u001b[0m \u001b[1m10s\u001b[0m 56ms/step - loss: 0.3477 - mae: 0.6530 - mse: 7.8584 - r2_score: 0.2163 - rmse: 1.0622 - smape: 128.8021 - val_loss: 0.2681 - val_mae: 0.5843 - val_mse: 0.5437 - val_r2_score: -0.4121 - val_rmse: 0.7361 - val_smape: 158.5178 - learning_rate: 1.2500e-04\n",
      "Epoch 79/256\n",
      "\u001b[1m142/142\u001b[0m \u001b[32m━━━━━━━━━━━━━━━━━━━━\u001b[0m\u001b[37m\u001b[0m \u001b[1m11s\u001b[0m 60ms/step - loss: 0.3418 - mae: 0.6484 - mse: 7.8423 - r2_score: 0.2330 - rmse: 1.0526 - smape: 128.3495 - val_loss: 0.2762 - val_mae: 0.5956 - val_mse: 0.5639 - val_r2_score: -0.4776 - val_rmse: 0.7501 - val_smape: 157.0520 - learning_rate: 1.2500e-04\n",
      "\u001b[32m2025-07-15 21:47:36.971\u001b[0m | \u001b[1mINFO    \u001b[0m | \u001b[36msrc.modeling.train\u001b[0m:\u001b[36mmain\u001b[0m:\u001b[36m86\u001b[0m - \u001b[1mModel training complete.\u001b[0m\n",
      "\u001b[32m2025-07-15 21:47:36.973\u001b[0m | \u001b[1mINFO    \u001b[0m | \u001b[36msrc.modeling.train\u001b[0m:\u001b[36mmain\u001b[0m:\u001b[36m90\u001b[0m - \u001b[1mSaving 'default_model.keras' in 'C:\\Repositories\\time-series-prediction-rnn\\models'...\u001b[0m\n",
      "\u001b[32m2025-07-15 21:47:37.082\u001b[0m | \u001b[32m\u001b[1mSUCCESS \u001b[0m | \u001b[36msrc.modeling.train\u001b[0m:\u001b[36mmain\u001b[0m:\u001b[36m94\u001b[0m - \u001b[32m\u001b[1mModeling training complete.\u001b[0m\n",
      "\u001b[32m2025-07-15 21:47:37.084\u001b[0m | \u001b[1mINFO    \u001b[0m | \u001b[36msrc.modeling.train\u001b[0m:\u001b[36mmain\u001b[0m:\u001b[36m97\u001b[0m - \u001b[1mElapsed time: 810.98 seconds\u001b[0m\n",
      "\u001b[32m2025-07-15 21:47:37.088\u001b[0m | \u001b[1mINFO    \u001b[0m | \u001b[36msrc.modeling.train\u001b[0m:\u001b[36mmain\u001b[0m:\u001b[36m99\u001b[0m - \u001b[1mLogging experiment into mlflow.\u001b[0m\n",
      "\u001b[32m2025-07-15 21:47:37.108\u001b[0m | \u001b[1mINFO    \u001b[0m | \u001b[36msrc.utils.log.log_strategy\u001b[0m:\u001b[36mrun\u001b[0m:\u001b[36m249\u001b[0m - \u001b[1mStarting MLflow run 'training_run'\u001b[0m\n",
      "\u001b[1m2/2\u001b[0m \u001b[32m━━━━━━━━━━━━━━━━━━━━\u001b[0m\u001b[37m\u001b[0m \u001b[1m2s\u001b[0m 57ms/step\n",
      "\u001b[1m4/4\u001b[0m \u001b[32m━━━━━━━━━━━━━━━━━━━━\u001b[0m\u001b[37m\u001b[0m \u001b[1m1s\u001b[0m 469ms/step\n"
     ]
    },
    {
     "name": "stderr",
     "output_type": "stream",
     "text": [
      "2025/07/15 21:47:44 INFO mlflow.pyfunc: Inferring model signature from input example\n"
     ]
    },
    {
     "name": "stdout",
     "output_type": "stream",
     "text": [
      "\u001b[32m2025-07-15 21:47:44.326\u001b[0m | \u001b[1mINFO    \u001b[0m | \u001b[36msrc.utils.features.generator_strategy\u001b[0m:\u001b[36mgenerate\u001b[0m:\u001b[36m18\u001b[0m - \u001b[1mGenerating Timeseries from dataset...\u001b[0m\n"
     ]
    },
    {
     "name": "stderr",
     "output_type": "stream",
     "text": [
      "c:\\Repositories\\time-series-prediction-rnn\\.venv\\Lib\\site-packages\\mlflow\\types\\utils.py:452: UserWarning: Hint: Inferred schema contains integer column(s). Integer columns in Python cannot represent missing values. If your input data contains missing values at inference time, it will be encoded as floats and will cause a schema enforcement error. The best way to avoid this problem is to infer the model schema based on a realistic data sample (training dataset) that includes missing values. Alternatively, you can declare integer columns as doubles (float64) whenever these columns may have missing values. See `Handling Integers With Missing Values <https://www.mlflow.org/docs/latest/models.html#handling-integers-with-missing-values>`_ for more details.\n",
      "  warnings.warn(\n",
      "c:\\Repositories\\time-series-prediction-rnn\\.venv\\Lib\\site-packages\\keras\\src\\trainers\\data_adapters\\py_dataset_adapter.py:121: UserWarning: Your `PyDataset` class should call `super().__init__(**kwargs)` in its constructor. `**kwargs` can include `workers`, `use_multiprocessing`, `max_queue_size`. Do not pass these arguments to `fit()`, as they will be ignored.\n",
      "  self._warn_if_super_not_called()\n"
     ]
    },
    {
     "name": "stdout",
     "output_type": "stream",
     "text": [
      "\u001b[32m2025-07-15 21:47:44.857\u001b[0m | \u001b[1mINFO    \u001b[0m | \u001b[36msrc.utils.features.generator_strategy\u001b[0m:\u001b[36mgenerate\u001b[0m:\u001b[36m18\u001b[0m - \u001b[1mGenerating Timeseries from dataset...\u001b[0m\n",
      "\u001b[1m1/1\u001b[0m \u001b[32m━━━━━━━━━━━━━━━━━━━━\u001b[0m\u001b[37m\u001b[0m \u001b[1m2s\u001b[0m 2s/step\n"
     ]
    },
    {
     "name": "stderr",
     "output_type": "stream",
     "text": [
      "c:\\Repositories\\time-series-prediction-rnn\\.venv\\Lib\\site-packages\\tqdm\\auto.py:21: TqdmWarning: IProgress not found. Please update jupyter and ipywidgets. See https://ipywidgets.readthedocs.io/en/stable/user_install.html\n",
      "  from .autonotebook import tqdm as notebook_tqdm\n",
      "Downloading artifacts: 100%|██████████| 1/1 [00:00<?, ?it/s]\n",
      "Downloading artifacts: 100%|██████████| 1/1 [00:00<00:00, 1145.36it/s]\n",
      "Downloading artifacts: 100%|██████████| 1/1 [00:00<00:00, 500.87it/s] \n",
      "2025/07/15 21:48:04 WARNING mlflow.utils.environment: Encountered an unexpected error while inferring pip requirements (model URI: C:\\Users\\SAMSUNG\\AppData\\Local\\Temp\\tmpfd2y4h77\\model, flavor: python_function). Fall back to return ['cloudpickle==3.1.1']. Set logging level to DEBUG to see the full traceback. \n",
      "Downloading artifacts: 100%|██████████| 10/10 [00:00<00:00, 1111.19it/s]\n"
     ]
    },
    {
     "name": "stdout",
     "output_type": "stream",
     "text": [
      "\u001b[32m2025-07-15 21:48:05.698\u001b[0m | \u001b[1mINFO    \u001b[0m | \u001b[36msrc.utils.features.generator_strategy\u001b[0m:\u001b[36mgenerate\u001b[0m:\u001b[36m18\u001b[0m - \u001b[1mGenerating Timeseries from dataset...\u001b[0m\n"
     ]
    },
    {
     "name": "stderr",
     "output_type": "stream",
     "text": [
      "c:\\Repositories\\time-series-prediction-rnn\\.venv\\Lib\\site-packages\\keras\\src\\trainers\\data_adapters\\py_dataset_adapter.py:121: UserWarning: Your `PyDataset` class should call `super().__init__(**kwargs)` in its constructor. `**kwargs` can include `workers`, `use_multiprocessing`, `max_queue_size`. Do not pass these arguments to `fit()`, as they will be ignored.\n",
      "  self._warn_if_super_not_called()\n"
     ]
    },
    {
     "name": "stdout",
     "output_type": "stream",
     "text": [
      "\u001b[1m1/1\u001b[0m \u001b[32m━━━━━━━━━━━━━━━━━━━━\u001b[0m\u001b[37m\u001b[0m \u001b[1m1s\u001b[0m 1s/step\n",
      "\u001b[32m2025-07-15 21:48:07.322\u001b[0m | \u001b[1mINFO    \u001b[0m | \u001b[36msrc.utils.log.log_strategy\u001b[0m:\u001b[36mlog_param\u001b[0m:\u001b[36m226\u001b[0m - \u001b[1mLogging training parameters...\u001b[0m\n"
     ]
    },
    {
     "name": "stderr",
     "output_type": "stream",
     "text": [
      "Registered model 'regression-pipeline' already exists. Creating a new version of this model...\n",
      "Created version '3' of model 'regression-pipeline'.\n"
     ]
    },
    {
     "name": "stdout",
     "output_type": "stream",
     "text": [
      "\u001b[32m2025-07-15 21:48:07.404\u001b[0m | \u001b[1mINFO    \u001b[0m | \u001b[36msrc.utils.log.log_strategy\u001b[0m:\u001b[36mlog_metrics\u001b[0m:\u001b[36m196\u001b[0m - \u001b[1mLogging training metrics...\u001b[0m\n",
      "\u001b[32m2025-07-15 21:48:13.455\u001b[0m | \u001b[32m\u001b[1mSUCCESS \u001b[0m | \u001b[36msrc.utils.log.log_strategy\u001b[0m:\u001b[36mrun\u001b[0m:\u001b[36m373\u001b[0m - \u001b[32m\u001b[1mMLflow logging completed.\u001b[0m\n",
      "\u001b[32m2025-07-15 21:48:13.461\u001b[0m | \u001b[32m\u001b[1mSUCCESS \u001b[0m | \u001b[36msrc.modeling.train\u001b[0m:\u001b[36mmain\u001b[0m:\u001b[36m115\u001b[0m - \u001b[32m\u001b[1mExperiment logged successfully.\u001b[0m\n"
     ]
    }
   ],
   "source": [
    "from src import config\n",
    "from src.modeling import train\n",
    "\n",
    "train.main(\n",
    "    # ---- REPLACE DEFAULT PATHS AS APPROPRIATE ----\n",
    "    X_path = config.PROCESSED_DATA_DIR / \"X_train.npy\",\n",
    "    y_path = config.PROCESSED_DATA_DIR / \"y_train.npy\",\n",
    "    # -----------------------------------------\n",
    "    optimizer =  None,  # Use default optimizer\n",
    "    loss = None,  # Use default loss\n",
    "    metrics = None,  # Use default metrics\n",
    "    # -----------------------------------------\n",
    "    epochs = 256,    \n",
    "    validation_len = 64,\n",
    "    batch_size = 16,    \n",
    "    # -----------------------------------------\n",
    "    experiment_name = \"0.0-amp-main-notebook\",\n",
    ")"
   ]
  },
  {
   "cell_type": "markdown",
   "id": "ab6162b6",
   "metadata": {},
   "source": [
    "## Predict\n",
    "\n",
    "In the prediction stage, the trained model is loaded along with the input data. The model then performs inference, generating predictions based on the provided data.\n"
   ]
  },
  {
   "cell_type": "code",
   "execution_count": 4,
   "id": "55f922aa",
   "metadata": {},
   "outputs": [
    {
     "name": "stdout",
     "output_type": "stream",
     "text": [
      "\u001b[32m2025-07-15 21:48:13.483\u001b[0m | \u001b[1mINFO    \u001b[0m | \u001b[36msrc.modeling.predict\u001b[0m:\u001b[36mmain\u001b[0m:\u001b[36m27\u001b[0m - \u001b[1mPerforming inference for model...\u001b[0m\n",
      "\u001b[32m2025-07-15 21:48:13.965\u001b[0m | \u001b[1mINFO    \u001b[0m | \u001b[36msrc.modeling.predict\u001b[0m:\u001b[36mmain\u001b[0m:\u001b[36m42\u001b[0m - \u001b[1mInput data shape: (32, 130)\u001b[0m\n",
      "\u001b[32m2025-07-15 21:48:13.977\u001b[0m | \u001b[1mINFO    \u001b[0m | \u001b[36msrc.utils.features.generator_strategy\u001b[0m:\u001b[36mgenerate\u001b[0m:\u001b[36m18\u001b[0m - \u001b[1mGenerating Timeseries from dataset...\u001b[0m\n"
     ]
    },
    {
     "name": "stderr",
     "output_type": "stream",
     "text": [
      "c:\\Repositories\\time-series-prediction-rnn\\.venv\\Lib\\site-packages\\keras\\src\\trainers\\data_adapters\\py_dataset_adapter.py:121: UserWarning: Your `PyDataset` class should call `super().__init__(**kwargs)` in its constructor. `**kwargs` can include `workers`, `use_multiprocessing`, `max_queue_size`. Do not pass these arguments to `fit()`, as they will be ignored.\n",
      "  self._warn_if_super_not_called()\n"
     ]
    },
    {
     "name": "stdout",
     "output_type": "stream",
     "text": [
      "WARNING:tensorflow:5 out of the last 9 calls to <function TensorFlowTrainer.make_predict_function.<locals>.one_step_on_data_distributed at 0x000001F084EA0C20> triggered tf.function retracing. Tracing is expensive and the excessive number of tracings could be due to (1) creating @tf.function repeatedly in a loop, (2) passing tensors with different shapes, (3) passing Python objects instead of tensors. For (1), please define your @tf.function outside of the loop. For (2), @tf.function has reduce_retracing=True option that can avoid unnecessary retracing. For (3), please refer to https://www.tensorflow.org/guide/function#controlling_retracing and https://www.tensorflow.org/api_docs/python/tf/function for  more details.\n",
      "\u001b[1m1/1\u001b[0m \u001b[32m━━━━━━━━━━━━━━━━━━━━\u001b[0m\u001b[37m\u001b[0m \u001b[1m3s\u001b[0m 3s/step\n",
      "            Close_^BVSP  High_^BVSP  Low_^BVSP  Open_^BVSP  Volume_^BVSP  \\\n",
      "2025-07-11    -0.004066   -0.005310  -0.003580   -0.005310     -0.226244   \n",
      "2025-07-14    -0.006520   -0.004059  -0.005076   -0.004059     -0.010308   \n",
      "2025-07-15    -0.000886    0.000261  -0.000026   -0.000119     -0.000343   \n",
      "\n",
      "                 type  \n",
      "2025-07-11       True  \n",
      "2025-07-14       True  \n",
      "2025-07-15  Predicted  \n",
      "\u001b[32m2025-07-15 21:48:18.359\u001b[0m | \u001b[32m\u001b[1mSUCCESS \u001b[0m | \u001b[36msrc.modeling.predict\u001b[0m:\u001b[36mmain\u001b[0m:\u001b[36m77\u001b[0m - \u001b[32m\u001b[1mInference complete.\u001b[0m\n"
     ]
    }
   ],
   "source": [
    "from src import config\n",
    "from src.modeling import predict\n",
    "\n",
    "predict.main(\n",
    "    # ---- REPLACE DEFAULT PATHS AS APPROPRIATE ----\n",
    "    input_path = config.PROCESSED_DATA_DIR / \"dataset.csv\"\n",
    "    ,preprocessor_path = config.PROCESSED_DATA_DIR / \"preprocessor.pkl\"\n",
    "    ,postprocessor_path = config.PROCESSED_DATA_DIR / \"postprocessor.pkl\"\n",
    "    ,output_path = config.PREDICTED_DATA_DIR / \"dataset_report.csv\"\n",
    "    ,model_path = config.MODELS_DIR / \"default_model.keras\"  # Select the best model  \n",
    "    # -----------------------------------------\n",
    ")"
   ]
  },
  {
   "cell_type": "markdown",
   "id": "340ef876",
   "metadata": {},
   "source": [
    "## Plot\n",
    "\n",
    "Open the [Power BI Report]((../reports/pbi/amp-fynance.pbip)) and refresh data."
   ]
  }
 ],
 "metadata": {
  "kernelspec": {
   "display_name": ".venv",
   "language": "python",
   "name": "python3"
  },
  "language_info": {
   "codemirror_mode": {
    "name": "ipython",
    "version": 3
   },
   "file_extension": ".py",
   "mimetype": "text/x-python",
   "name": "python",
   "nbconvert_exporter": "python",
   "pygments_lexer": "ipython3",
   "version": "3.12.10"
  }
 },
 "nbformat": 4,
 "nbformat_minor": 5
}
